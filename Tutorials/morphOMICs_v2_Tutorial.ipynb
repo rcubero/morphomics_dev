{
 "cells": [
  {
   "attachments": {},
   "cell_type": "markdown",
   "metadata": {},
   "source": [
    "# **morphOMICs_v2 Tutorial Notebook**\n",
    "## Author: **Ryan Cubero**\n",
    "### For questions, please contact <a href=\"mailto:rcubero@ist.ac.at\">Ryan</a> <br/> For bugs and feature request, please go to the <a href=\"https://github.com/siegert-lab/MorphOMICs/issues\">morphOMICs GitHub issues page</a> <br/>\n",
    "#### In this notebook, we will go through the modular implementation of <code>morphOMICs</code>. The idea of modularization was inspired by many workflow frameworks where the user directs the library to perform a sequence of tasks with the indicated parameters."
   ]
  },
  {
   "attachments": {},
   "cell_type": "markdown",
   "metadata": {},
   "source": [
    "<br> </br>\n",
    "#### First, let's import all the necessary libraries to make the notebook work."
   ]
  },
  {
   "cell_type": "code",
   "execution_count": 3,
   "metadata": {
    "tags": []
   },
   "outputs": [
    {
     "name": "stderr",
     "output_type": "stream",
     "text": [
      "2023-06-02 15:00:36.420336: I tensorflow/core/platform/cpu_feature_guard.cc:193] This TensorFlow binary is optimized with oneAPI Deep Neural Network Library (oneDNN) to use the following CPU instructions in performance-critical operations:  AVX2 FMA\n",
      "To enable them in other operations, rebuild TensorFlow with the appropriate compiler flags.\n",
      "2023-06-02 15:00:37.382235: W tensorflow/compiler/xla/stream_executor/platform/default/dso_loader.cc:64] Could not load dynamic library 'libcudart.so.11.0'; dlerror: libcudart.so.11.0: cannot open shared object file: No such file or directory\n",
      "2023-06-02 15:00:37.382281: I tensorflow/compiler/xla/stream_executor/cuda/cudart_stub.cc:29] Ignore above cudart dlerror if you do not have a GPU set up on your machine.\n",
      "2023-06-02 15:00:40.559819: W tensorflow/compiler/xla/stream_executor/platform/default/dso_loader.cc:64] Could not load dynamic library 'libnvinfer.so.7'; dlerror: libnvinfer.so.7: cannot open shared object file: No such file or directory\n",
      "2023-06-02 15:00:40.560090: W tensorflow/compiler/xla/stream_executor/platform/default/dso_loader.cc:64] Could not load dynamic library 'libnvinfer_plugin.so.7'; dlerror: libnvinfer_plugin.so.7: cannot open shared object file: No such file or directory\n",
      "2023-06-02 15:00:40.560119: W tensorflow/compiler/tf2tensorrt/utils/py_utils.cc:38] TF-TRT Warning: Cannot dlopen some TensorRT libraries. If you would like to use Nvidia GPU with TensorRT, please make sure the missing libraries mentioned above are installed properly.\n"
     ]
    }
   ],
   "source": [
    "from morphomics import protocols\n",
    "import tomli"
   ]
  },
  {
   "attachments": {},
   "cell_type": "markdown",
   "metadata": {},
   "source": [
    "####  The central feature of <code>morphOMICs_v2</code> is the ***parameters file***. You can check out some examples of the parameter file in **<span style=\"color:#424242\">morphOMICs_v2/Parameter_files</span>**. It is  written in <a href=\"https://toml.io/en/\">TOML</a> which is then parsed into Python as a dictionary."
   ]
  },
  {
   "attachments": {},
   "cell_type": "markdown",
   "metadata": {},
   "source": [
    "<br></br>\n",
    "#### First, let's define the <code>parameters</code> dictionary by calling the <code>Protocols</code>.\n",
    "\n",
    "#### <code>Protocols</code> defines the sequence of modules that will be executed and can be used to create workflows. You can choose the following executables: <code>Input</code>, <code>Load_data</code>, <code>Clean_frame</code>, <code>Bootstrap</code>, <code>Persistence_Images</code>, <code>UMAP</code>, <code>Palantir</code>, <code>Plotting</code>, <code>Mapping</code>, <code>Sholl_curves</code>, <code>Morphometrics</code>, <code>Prepare_ReductionInfo</code>, <code>Clear_morphframe</code>.\n",
    "\n",
    "#### In the Protocol below, we shall perform a typical morphOMICs workflow, where first, we would like <code>morphOMICs_v2</code> to <code>Input</code> the 3D morphological reconstructions (as .swc files) and convert them into *TMD barcodes*. Then, we will <code>Clean_frame</code> to drop certain conditions that were loaded but are not needed for downstream analysis or rename some conditions. Then, we will <code>Bootstrap</code> and calculate <code>Persistence_Images</code>. Then, we perform dimensionality reduction using <code>UMAP</code>, prepare a .csv file that can be loaded with the _morphOMICs dashboard_ using <code>Prepare_ReductionInfo</code> and finally, output an interactive spectrum through <code>Plotting</code>."
   ]
  },
  {
   "cell_type": "code",
   "execution_count": 4,
   "metadata": {},
   "outputs": [],
   "source": [
    "parameters = tomli.loads(\n",
    "    \"\"\"\n",
    "# sequential list of executables\n",
    "# Choices of executables: Input, Load_data, Clean_frame, Bootstrap, Persistence_Images, UMAP, Palantir, iPyVolume_plotting, Mapping, Clear_morphframe, Sholl_curves, Morphometrics \n",
    "# This is an example of a standard morphOMICs pipeline to obtain the morphological spectrum\n",
    "Protocols = [\n",
    "        \"Input\",\n",
    "        \"Clean_frame\",\n",
    "        \"Bootstrap\",\n",
    "        \"Persistence_Images\",\n",
    "        \"UMAP\",\n",
    "        \"Prepare_ReductionInfo\",\n",
    "        \"Plotting\",\n",
    "    ]\n",
    "\"\"\"\n",
    ")"
   ]
  },
  {
   "attachments": {},
   "cell_type": "markdown",
   "metadata": {},
   "source": [
    "<br> </br>\n",
    "#### Now, we initialize the <code><span style=\"color:#ff8a80\">_morphOMICs</span></code> class using <code>protocols.Protocols()</code>. Here, we set the <code><span style=\"color:#ff8a80\">Parameters_ID</span></code> to any number. In my use-case, <code><span style=\"color:#ff8a80\">Parameters_ID</span></code>  serves as an indicator for the set of parameters that I am using, which I write down on my notes. It helps make my results reproducible."
   ]
  },
  {
   "cell_type": "code",
   "execution_count": 5,
   "metadata": {},
   "outputs": [
    {
     "name": "stdout",
     "output_type": "stream",
     "text": [
      "Unless you have specified the file prefix in the succeeding executables, \n",
      "this will be the file prefix: Morphomics.PID1\n"
     ]
    }
   ],
   "source": [
    "Parameters_ID = 1\n",
    "_morphOMICs = protocols.Protocols(parameters, Parameters_ID)\n",
    "\n",
    "# It will output the filename prefix for the files that will be subsequently saved"
   ]
  },
  {
   "attachments": {},
   "cell_type": "markdown",
   "metadata": {},
   "source": [
    "<br></br>\n",
    "#### Then, we start with loading the data. <code><span style=\"color:#ff8a80\">_morphOMICs.parameters</span></code> contains the parameters that we have initiated before and we should update it with <code>Input</code> parameters. I have placed comments on what information is needed."
   ]
  },
  {
   "cell_type": "code",
   "execution_count": 6,
   "metadata": {},
   "outputs": [],
   "source": [
    "# parameters to load 3D morphological reconstructions\n",
    "_morphOMICs.parameters[\"Input\"] = tomli.loads(\n",
    "    \"\"\"\n",
    "# filepath pointing to the parent folder containing the .swc files arranged hierarchically according to conditions\n",
    "\"data_location_filepath\" = \"/media/drive_siegert/RyCu/Projects/TMD/_Data/Retina_sample\"\n",
    "\n",
    "# .swc file extension, \"_corrected.swc\" refers to .swc files that were corrected with NeurolandMLConverter\n",
    "\"extension\" = \"_corrected.swc\"\n",
    "\n",
    "# this must match the hierarchical structure of `data_location_filepath`\n",
    "\"conditions\" = [\n",
    "            \"Region\",\n",
    "            \"Condition\",\n",
    "            \"Model\",\n",
    "            \"Time\",\n",
    "            \"Sex\",\n",
    "            \"Animal\",\n",
    "        ]\n",
    "        \n",
    "# this is the TMD filtration function, can either be radial_distances, or path_distances\n",
    "\"barcode_filter\" = \"radial_distances\"\n",
    "\n",
    "# this is how the variable will be called\n",
    "\"morphoframe_name\" = \"morphoframe\"\n",
    "\n",
    "# I would advise saving the loaded data; value is either `true` or `false` (warning: take note that all the letters are in lower case)\n",
    "\"save_data\" = true\n",
    "\n",
    "# saving chunks of the whole data (according to `separated_by`) makes it less painful if there was a problem with the file processing in the middle of running `Input`\n",
    "# this must be an element of `conditions`\n",
    "\"separated_by\" = \"Model\"\n",
    "\n",
    "# location where to save the data\n",
    "\"save_folder\" = \"/media/drive_siegert/RyCu/Projects/TMD/_Data/_TMD_barcodes/Retina_sample\"\n",
    "\n",
    "# if 0, morphOMICs will automatically create a file prefix, i.e., Morphomics.PID[xxx].[barcode_filter].[separated_by]-\n",
    "# Otherwise, this will be used as the file prefix\n",
    "\"file_prefix\" = 0\n",
    "\n",
    "\"\"\"\n",
    ")"
   ]
  },
  {
   "attachments": {},
   "cell_type": "markdown",
   "metadata": {},
   "source": [
    "#### Let's run <code>Input</code>!"
   ]
  },
  {
   "cell_type": "code",
   "execution_count": 7,
   "metadata": {
    "tags": []
   },
   "outputs": [
    {
     "name": "stdout",
     "output_type": "stream",
     "text": [
      "Loading the data from /media/drive_siegert/RyCu/Projects/TMD/_Data/Retina_sample\n",
      "Saving dataset in /media/drive_siegert/RyCu/Projects/TMD/_Data/_TMD_barcodes/Retina_sample/Morphomics.PID1.TMD-radial_distances\n",
      "You are now loading the 3D reconstructions (.swc files) from this folder: \n",
      "/media/drive_siegert/RyCu/Projects/TMD/_Data/Retina_sample\n",
      "\n",
      "Sample filenames:\n",
      "/media/drive_siegert/RyCu/Projects/TMD/_Data/Retina_sample/IPL/Adulthood/Ctrl_Kxa4h/Adult/F/CRTLSAL4_F_iba488_cd68647_dapi_1_20161005_IPL/Filament_005_IPL_cleared_Trace_0000_nl_corrected.swc\n",
      "/media/drive_siegert/RyCu/Projects/TMD/_Data/Retina_sample/IPL/Adulthood/Ctrl_Kxa4h/Adult/F/CRTLSAL4_F_iba488_cd68647_dapi_1_20161005_IPL/Filament_005_IPL_cleared_Trace_0001_nl_corrected.swc\n",
      "/media/drive_siegert/RyCu/Projects/TMD/_Data/Retina_sample/IPL/Adulthood/Ctrl_Kxa4h/Adult/F/CRTLSAL4_F_iba488_cd68647_dapi_1_20161005_IPL/Filament_005_IPL_cleared_Trace_0002_nl_corrected.swc\n",
      "/media/drive_siegert/RyCu/Projects/TMD/_Data/Retina_sample/IPL/Adulthood/Ctrl_Kxa4h/Adult/F/CRTLSAL4_F_iba488_cd68647_dapi_1_20161005_IPL/Filament_005_IPL_cleared_Trace_0003_nl_corrected.swc\n",
      "/media/drive_siegert/RyCu/Projects/TMD/_Data/Retina_sample/IPL/Adulthood/Ctrl_Kxa4h/Adult/F/CRTLSAL4_F_iba488_cd68647_dapi_1_20161005_IPL/Filament_005_IPL_cleared_Trace_0004_nl_corrected.swc\n",
      " \n",
      "Found 217 files...\n",
      "Separating DataFrame into Model...\n",
      "There are 2 conditions...\n",
      "...processing Ctrl_Kxa4h\n",
      "You have loaded 25% chunk of the data...\n",
      "You have loaded 50% chunk of the data...\n",
      "You have loaded 75% chunk of the data...\n",
      "...finished loading morphologies and barcodes...\n",
      "...processing Ctrl_Kxa48h\n",
      "You have loaded 25% chunk of the data...\n",
      "You have loaded 50% chunk of the data...\n",
      "You have loaded 75% chunk of the data...\n",
      "...finished loading morphologies and barcodes...\n",
      "Done!\n"
     ]
    }
   ],
   "source": [
    "_morphOMICs.Input()"
   ]
  },
  {
   "attachments": {},
   "cell_type": "markdown",
   "metadata": {},
   "source": [
    "#### <code>Input</code> returns the instance <code><span style=\"color:#ff8a80\">_morphOMICs.morphoframe</span></code> which is a dictionary of pandas DataFrame with keys indicated by <code><span style=\"color:#ff8a80\">_morphOMICs.morphoframe[_morphOMICs.parameters[\"*Input*\"][\"*morphoframe_name*\"]]</span></code> which contains the *TMD barcodes* (**Barcodes**)."
   ]
  },
  {
   "cell_type": "code",
   "execution_count": 8,
   "metadata": {},
   "outputs": [
    {
     "data": {
      "text/html": [
       "<div>\n",
       "<style scoped>\n",
       "    .dataframe tbody tr th:only-of-type {\n",
       "        vertical-align: middle;\n",
       "    }\n",
       "\n",
       "    .dataframe tbody tr th {\n",
       "        vertical-align: top;\n",
       "    }\n",
       "\n",
       "    .dataframe thead th {\n",
       "        text-align: right;\n",
       "    }\n",
       "</style>\n",
       "<table border=\"1\" class=\"dataframe\">\n",
       "  <thead>\n",
       "    <tr style=\"text-align: right;\">\n",
       "      <th></th>\n",
       "      <th>Region</th>\n",
       "      <th>Condition</th>\n",
       "      <th>Model</th>\n",
       "      <th>Time</th>\n",
       "      <th>Sex</th>\n",
       "      <th>Animal</th>\n",
       "      <th>_files</th>\n",
       "      <th>Filenames</th>\n",
       "      <th>Morphologies</th>\n",
       "      <th>Barcodes</th>\n",
       "    </tr>\n",
       "  </thead>\n",
       "  <tbody>\n",
       "    <tr>\n",
       "      <th>0</th>\n",
       "      <td>IPL</td>\n",
       "      <td>Adulthood</td>\n",
       "      <td>Ctrl_Kxa4h</td>\n",
       "      <td>Adult</td>\n",
       "      <td>F</td>\n",
       "      <td>CRTLSAL4_F_iba488_cd68647_dapi_1_20161005_IPL</td>\n",
       "      <td>Filament_005_IPL_cleared_Trace_0000_nl_correct...</td>\n",
       "      <td>/media/drive_siegert/RyCu/Projects/TMD/_Data/R...</td>\n",
       "      <td>&lt;morphomics.Neuron.Neuron.Neuron object at 0x7...</td>\n",
       "      <td>[[20.75804684935549, 17.748095052710422], [14....</td>\n",
       "    </tr>\n",
       "    <tr>\n",
       "      <th>1</th>\n",
       "      <td>IPL</td>\n",
       "      <td>Adulthood</td>\n",
       "      <td>Ctrl_Kxa4h</td>\n",
       "      <td>Adult</td>\n",
       "      <td>F</td>\n",
       "      <td>CRTLSAL4_F_iba488_cd68647_dapi_1_20161005_IPL</td>\n",
       "      <td>Filament_005_IPL_cleared_Trace_0001_nl_correct...</td>\n",
       "      <td>/media/drive_siegert/RyCu/Projects/TMD/_Data/R...</td>\n",
       "      <td>&lt;morphomics.Neuron.Neuron.Neuron object at 0x7...</td>\n",
       "      <td>[[78.46860149130009, 76.54534465922923], [57.4...</td>\n",
       "    </tr>\n",
       "    <tr>\n",
       "      <th>2</th>\n",
       "      <td>IPL</td>\n",
       "      <td>Adulthood</td>\n",
       "      <td>Ctrl_Kxa4h</td>\n",
       "      <td>Adult</td>\n",
       "      <td>F</td>\n",
       "      <td>CRTLSAL4_F_iba488_cd68647_dapi_1_20161005_IPL</td>\n",
       "      <td>Filament_005_IPL_cleared_Trace_0002_nl_correct...</td>\n",
       "      <td>/media/drive_siegert/RyCu/Projects/TMD/_Data/R...</td>\n",
       "      <td>&lt;morphomics.Neuron.Neuron.Neuron object at 0x7...</td>\n",
       "      <td>[[34.33316491382563, 34.87596242399507], [26.1...</td>\n",
       "    </tr>\n",
       "    <tr>\n",
       "      <th>3</th>\n",
       "      <td>IPL</td>\n",
       "      <td>Adulthood</td>\n",
       "      <td>Ctrl_Kxa4h</td>\n",
       "      <td>Adult</td>\n",
       "      <td>F</td>\n",
       "      <td>CRTLSAL4_F_iba488_cd68647_dapi_1_20161005_IPL</td>\n",
       "      <td>Filament_005_IPL_cleared_Trace_0003_nl_correct...</td>\n",
       "      <td>/media/drive_siegert/RyCu/Projects/TMD/_Data/R...</td>\n",
       "      <td>&lt;morphomics.Neuron.Neuron.Neuron object at 0x7...</td>\n",
       "      <td>[[122.92604691032585, 119.19617370956183], [66...</td>\n",
       "    </tr>\n",
       "    <tr>\n",
       "      <th>4</th>\n",
       "      <td>IPL</td>\n",
       "      <td>Adulthood</td>\n",
       "      <td>Ctrl_Kxa4h</td>\n",
       "      <td>Adult</td>\n",
       "      <td>F</td>\n",
       "      <td>CRTLSAL4_F_iba488_cd68647_dapi_1_20161005_IPL</td>\n",
       "      <td>Filament_005_IPL_cleared_Trace_0004_nl_correct...</td>\n",
       "      <td>/media/drive_siegert/RyCu/Projects/TMD/_Data/R...</td>\n",
       "      <td>&lt;morphomics.Neuron.Neuron.Neuron object at 0x7...</td>\n",
       "      <td>[[66.91833092658726, 68.64142038885886], [64.8...</td>\n",
       "    </tr>\n",
       "  </tbody>\n",
       "</table>\n",
       "</div>"
      ],
      "text/plain": [
       "  Region  Condition       Model   Time Sex  \\\n",
       "0    IPL  Adulthood  Ctrl_Kxa4h  Adult   F   \n",
       "1    IPL  Adulthood  Ctrl_Kxa4h  Adult   F   \n",
       "2    IPL  Adulthood  Ctrl_Kxa4h  Adult   F   \n",
       "3    IPL  Adulthood  Ctrl_Kxa4h  Adult   F   \n",
       "4    IPL  Adulthood  Ctrl_Kxa4h  Adult   F   \n",
       "\n",
       "                                          Animal  \\\n",
       "0  CRTLSAL4_F_iba488_cd68647_dapi_1_20161005_IPL   \n",
       "1  CRTLSAL4_F_iba488_cd68647_dapi_1_20161005_IPL   \n",
       "2  CRTLSAL4_F_iba488_cd68647_dapi_1_20161005_IPL   \n",
       "3  CRTLSAL4_F_iba488_cd68647_dapi_1_20161005_IPL   \n",
       "4  CRTLSAL4_F_iba488_cd68647_dapi_1_20161005_IPL   \n",
       "\n",
       "                                              _files  \\\n",
       "0  Filament_005_IPL_cleared_Trace_0000_nl_correct...   \n",
       "1  Filament_005_IPL_cleared_Trace_0001_nl_correct...   \n",
       "2  Filament_005_IPL_cleared_Trace_0002_nl_correct...   \n",
       "3  Filament_005_IPL_cleared_Trace_0003_nl_correct...   \n",
       "4  Filament_005_IPL_cleared_Trace_0004_nl_correct...   \n",
       "\n",
       "                                           Filenames  \\\n",
       "0  /media/drive_siegert/RyCu/Projects/TMD/_Data/R...   \n",
       "1  /media/drive_siegert/RyCu/Projects/TMD/_Data/R...   \n",
       "2  /media/drive_siegert/RyCu/Projects/TMD/_Data/R...   \n",
       "3  /media/drive_siegert/RyCu/Projects/TMD/_Data/R...   \n",
       "4  /media/drive_siegert/RyCu/Projects/TMD/_Data/R...   \n",
       "\n",
       "                                        Morphologies  \\\n",
       "0  <morphomics.Neuron.Neuron.Neuron object at 0x7...   \n",
       "1  <morphomics.Neuron.Neuron.Neuron object at 0x7...   \n",
       "2  <morphomics.Neuron.Neuron.Neuron object at 0x7...   \n",
       "3  <morphomics.Neuron.Neuron.Neuron object at 0x7...   \n",
       "4  <morphomics.Neuron.Neuron.Neuron object at 0x7...   \n",
       "\n",
       "                                            Barcodes  \n",
       "0  [[20.75804684935549, 17.748095052710422], [14....  \n",
       "1  [[78.46860149130009, 76.54534465922923], [57.4...  \n",
       "2  [[34.33316491382563, 34.87596242399507], [26.1...  \n",
       "3  [[122.92604691032585, 119.19617370956183], [66...  \n",
       "4  [[66.91833092658726, 68.64142038885886], [64.8...  "
      ]
     },
     "execution_count": 8,
     "metadata": {},
     "output_type": "execute_result"
    }
   ],
   "source": [
    "_morphOMICs.morphoframe[\"morphoframe\"].head()"
   ]
  },
  {
   "attachments": {},
   "cell_type": "markdown",
   "metadata": {},
   "source": [
    "#### We can also count the number of morphologies in each condition."
   ]
  },
  {
   "cell_type": "code",
   "execution_count": 9,
   "metadata": {},
   "outputs": [
    {
     "data": {
      "text/plain": [
       "Region  Model        Sex\n",
       "IPL     Ctrl_Kxa48h  F      34\n",
       "                     M      36\n",
       "        Ctrl_Kxa4h   F      23\n",
       "                     M      29\n",
       "OPL     Ctrl_Kxa48h  F      30\n",
       "                     M      27\n",
       "        Ctrl_Kxa4h   F      20\n",
       "                     M      18\n",
       "dtype: int64"
      ]
     },
     "execution_count": 9,
     "metadata": {},
     "output_type": "execute_result"
    }
   ],
   "source": [
    "_morphOMICs.morphoframe[\"morphoframe\"].pivot_table(\n",
    "    index=[\"Region\", \"Model\", \"Sex\"], aggfunc=\"size\"\n",
    ")"
   ]
  },
  {
   "attachments": {},
   "cell_type": "markdown",
   "metadata": {},
   "source": [
    "<br></br>\n",
    "#### Then, we clean out the _morphoframe_ to remove empty morphologies (which corresponds to artifacts during the Imaris semi-automated reconstructions) as well as renaming conditions using <code>Clean_frame</code>."
   ]
  },
  {
   "cell_type": "code",
   "execution_count": 10,
   "metadata": {},
   "outputs": [],
   "source": [
    "# criteria for cleaning the input files\n",
    "_morphOMICs.parameters[\"Clean_frame\"] = tomli.loads(\n",
    "    \"\"\"\n",
    "# if not 0, must contain the filepath to the morphoframe which will then be saved into morphoframe_name\n",
    "# otherwise, `morphoframe_name` is the morphoframe that will be cleaned up\n",
    "\"morphoframe_filepath\" = 0\n",
    "\"morphoframe_name\" = \"morphoframe\"\n",
    "\n",
    "# remove morphologies if the number of bars is less than the cutoff\n",
    "\"barcode_size_cutoff\" = 5\n",
    "\n",
    "# retain bars whose length satisfy a certain cutoff\n",
    "# must be an array with three elements, [\"greater_than\" \"less_than\" or \"within\", bar length condition (must be an array if using \"within\"), \"drop\" or \"keep\"]\n",
    "# the example below keeps bars whose length is greater than 0, and less than 200.\n",
    "# if not used, comment the elements of `barlength_cutoff` out\n",
    "\"barlength_cutoff\" = [ \n",
    "#            [\"less_than\", 0, \"drop\"],\n",
    "#            [\"greater_than\", 200, \"drop\"], \n",
    "#            [\"within\", [0,200], \"keep\"],\n",
    "            ]\n",
    "\n",
    "# enumerate which conditions will be merged\n",
    "# must be an array with three elements [a header of the info_frame (is an element of `Input.conditions`),\n",
    "#                                       a list of conditions that will be merged (must be an array), \n",
    "#                                       the new name of the merged conditions]\n",
    "# if not used, comment the elements of `combine_conditions` out\n",
    "\"combine_conditions\" = [\n",
    "    [\"Model\", [\"Ctrl_Kxa4h\", \"Ctrl_Kxa48h\"], \"Ctrl_Kxa\"]\n",
    "]\n",
    "\n",
    "# enumerate restrictions\n",
    "# must be an array with three elements [a header of the info_frame (is an element of `Input.conditions`),  \n",
    "#                                       list of conditions to either drop or keep (must be an array), \n",
    "#                                       \"drop\" or \"keep\" conditions specified]\n",
    "# if not used, comment the elements of `restrict_conditions` out\n",
    "\"restrict_conditions\" = [\n",
    "#    [\"Region\", [\"GCL\"], \"drop\"],\n",
    "#    [\"Model\", [\"rd1\",\"Cx3cr1_het\",\"Ctrl_Iso\",\"Ctrl_Kxa\",\"rd10\",], \"keep\"],\n",
    "]\n",
    "\n",
    "# I would advise saving the cleaned data; value is either `true` or `false` (warning: take note that all the letters are in lower case)\n",
    "\"save_data\" = true\n",
    "\n",
    "# location where to save the data\n",
    "\"save_folder\" = \"/media/drive_siegert/RyCu/Projects/TMD/_Data/_TMD_barcodes/Retina_sample\"\n",
    "\n",
    "# if 0, morphOMICs will automatically create a file prefix, i.e., Morphomics.PID[xxx].[barcode_filter].Cleaned.\n",
    "# Otherwise, this will be used as the file prefix\n",
    "\"file_prefix\" = 0\n",
    "\"\"\"\n",
    ")"
   ]
  },
  {
   "cell_type": "code",
   "execution_count": 11,
   "metadata": {},
   "outputs": [],
   "source": [
    "_morphOMICs.Clean_frame()"
   ]
  },
  {
   "cell_type": "code",
   "execution_count": 12,
   "metadata": {},
   "outputs": [
    {
     "data": {
      "text/plain": [
       "Region  Model     Sex\n",
       "IPL     Ctrl_Kxa  F      56\n",
       "                  M      65\n",
       "OPL     Ctrl_Kxa  F      49\n",
       "                  M      45\n",
       "dtype: int64"
      ]
     },
     "execution_count": 12,
     "metadata": {},
     "output_type": "execute_result"
    }
   ],
   "source": [
    "_morphOMICs.morphoframe[\"morphoframe\"].pivot_table(\n",
    "    index=[\"Region\", \"Model\", \"Sex\"], aggfunc=\"size\"\n",
    ")"
   ]
  },
  {
   "attachments": {},
   "cell_type": "markdown",
   "metadata": {},
   "source": [
    "#### Notice that we have combined \"Ctrl_Kxa4h\" and \"Ctrl_Kxa48h\" into one condition."
   ]
  },
  {
   "attachments": {},
   "cell_type": "markdown",
   "metadata": {},
   "source": [
    "<br></br>\n",
    "#### Now, we <code>Bootstrap</code> the morphologies within  <code><span style=\"color:#ff8a80\">_morphOMICs.morphoframe[_morphOMICs.parameters[\"*Input*\"][\"*morphoframe_name*\"]]</span></code>."
   ]
  },
  {
   "cell_type": "code",
   "execution_count": 13,
   "metadata": {},
   "outputs": [],
   "source": [
    "# parameters for bootstrapping\n",
    "_morphOMICs.parameters[\"Bootstrap\"] = tomli.loads(\n",
    "    \"\"\"\n",
    "# if not 0, must contain the filepath to the morphoframe\n",
    "\"morphoframe_filepath\" = 0\n",
    "\"morphoframe_name\" = \"morphoframe\"\n",
    "\n",
    "# must be an array with two elements [feature (one of the headers in morphoframe), \"bars\", \"scalar\" or \"array\"]\n",
    "\"feature_to_bootstrap\" = [\"Barcodes\", \"bars\"]           # bootstraps by collapsing the lists into a single list \n",
    "# \"feature_to_bootstrap\" = [\"Barcode_length\", \"scalar\"] # bootstraps by taking the average of an array\n",
    "# \"feature_to_bootstrap\" = [\"Sholl\", \"array\"]           # # bootstraps by taking the element-wise average of a high-dimensional NumPy array\n",
    "\n",
    "# use this if you want to constraint your bootstrapping to a subset of conditions that you did not drop using `Clean_frame`\n",
    "# column name in morphoframe where the bootstrap_conditions are located\n",
    "\"condition_column\" = \"Model\"\n",
    "# conditions to bootstrap\n",
    "# if this array is empty, it will bootstrap across all conditions in the morphoframe\n",
    "\"bootstrap_conditions\" = [\n",
    "#            \"rd1\",\n",
    "#            \"Cx3cr1_het\",\n",
    "#            \"Ctrl_Iso\",\n",
    "            \"Ctrl_Kxa\",\n",
    "#            \"rd10\",\n",
    "        ]\n",
    "        \n",
    "\n",
    "# which conditions combinations which bootstrapping will consider as a unique condition\n",
    "\"bootstrap_resolution\" = [\n",
    "                    \"Region\",\n",
    "                    \"Model\",\n",
    "                    \"Sex\",\n",
    "        ]\n",
    "        \n",
    "        \n",
    "# set the seed of the random number, for reproducibility\n",
    "\"rand_seed\" = 34151\n",
    "\n",
    "\n",
    "# if this is opted, N_pop will be calculated as ratio*(total number of morphologies in a given condition combination)\n",
    "# if 0, you must input N_pop\n",
    "\"ratio\" = 0\n",
    "# number of morphologies to take averages of\n",
    "# set this to 1 if you don't want to perform bootstrapping\n",
    "\"N_pop\" = 15\n",
    "# number of bootstrap samples to create\n",
    "\"N_samples\" = 500\n",
    "\n",
    "\n",
    "# where the bootstrapped morphoframes will be stored\n",
    "\"bootstrapframe_name\" = \"bootstrap_frame\"\n",
    "\"morphoinfo_name\" = \"bootstrap_info\"\n",
    "\n",
    "\n",
    "# I would advise saving the data; value is either `true` or `false` (warning: take note that all the letters are in lower case)\n",
    "\"save_data\" = true\n",
    "# path to folder where to store bootstrapped conditions\n",
    "\"save_folder\" = \"/media/drive_siegert/RyCu/Projects/TMD/_Results/Retina_Morphomics/Retina_sample/\"\n",
    "# if 0, morphOMICs will automatically create a file prefix, i.e., Morphomics.PID[xxx].[barcode_filter].Bootstrap.\n",
    "# Otherwise, this will be used as the file prefix\n",
    "\"file_prefix\" = 0\n",
    "\"\"\"\n",
    ")"
   ]
  },
  {
   "cell_type": "code",
   "execution_count": 14,
   "metadata": {},
   "outputs": [
    {
     "name": "stdout",
     "output_type": "stream",
     "text": [
      "Performing bootstrapping for IPL_Ctrl_Kxa_F...\n",
      "There are 56 morphologies to bootstrap...\n",
      "Performing subsampling by random selection...\n",
      "...done! \n",
      "\n",
      "Performing bootstrapping for IPL_Ctrl_Kxa_M...\n",
      "There are 65 morphologies to bootstrap...\n",
      "Performing subsampling by random selection...\n",
      "...done! \n",
      "\n",
      "Performing bootstrapping for OPL_Ctrl_Kxa_F...\n",
      "There are 49 morphologies to bootstrap...\n",
      "Performing subsampling by random selection...\n",
      "...done! \n",
      "\n",
      "Performing bootstrapping for OPL_Ctrl_Kxa_M...\n",
      "There are 45 morphologies to bootstrap...\n",
      "Performing subsampling by random selection...\n",
      "...done! \n",
      "\n"
     ]
    }
   ],
   "source": [
    "_morphOMICs.Bootstrap()"
   ]
  },
  {
   "attachments": {},
   "cell_type": "markdown",
   "metadata": {},
   "source": [
    "#### <code>Bootstrap</code> returns the instance <code><span style=\"color:#ff8a80\">_morphOMICs.morphoframe[_morphOMICs.parameters[\"*Bootstrap*\"][\"*bootstrapframe_name*\"]]</span></code> which contains the *TMD barcodes* (**Barcodes**)."
   ]
  },
  {
   "cell_type": "code",
   "execution_count": 15,
   "metadata": {},
   "outputs": [
    {
     "data": {
      "text/html": [
       "<div>\n",
       "<style scoped>\n",
       "    .dataframe tbody tr th:only-of-type {\n",
       "        vertical-align: middle;\n",
       "    }\n",
       "\n",
       "    .dataframe tbody tr th {\n",
       "        vertical-align: top;\n",
       "    }\n",
       "\n",
       "    .dataframe thead th {\n",
       "        text-align: right;\n",
       "    }\n",
       "</style>\n",
       "<table border=\"1\" class=\"dataframe\">\n",
       "  <thead>\n",
       "    <tr style=\"text-align: right;\">\n",
       "      <th></th>\n",
       "      <th>Region</th>\n",
       "      <th>Model</th>\n",
       "      <th>Sex</th>\n",
       "      <th>Bootstrapped index</th>\n",
       "      <th>Barcodes</th>\n",
       "    </tr>\n",
       "  </thead>\n",
       "  <tbody>\n",
       "    <tr>\n",
       "      <th>0</th>\n",
       "      <td>IPL</td>\n",
       "      <td>Ctrl_Kxa</td>\n",
       "      <td>F</td>\n",
       "      <td>Int64Index([2, 9, 17, 18, 90, 99, 100, 102, 10...</td>\n",
       "      <td>[[34.33316491382563, 34.87596242399507], [26.1...</td>\n",
       "    </tr>\n",
       "    <tr>\n",
       "      <th>1</th>\n",
       "      <td>IPL</td>\n",
       "      <td>Ctrl_Kxa</td>\n",
       "      <td>F</td>\n",
       "      <td>Int64Index([0, 1, 6, 11, 12, 14, 15, 21, 90, 9...</td>\n",
       "      <td>[[20.75804684935549, 17.748095052710422], [14....</td>\n",
       "    </tr>\n",
       "    <tr>\n",
       "      <th>2</th>\n",
       "      <td>IPL</td>\n",
       "      <td>Ctrl_Kxa</td>\n",
       "      <td>F</td>\n",
       "      <td>Int64Index([2, 4, 6, 8, 9, 10, 11, 95, 96, 106...</td>\n",
       "      <td>[[34.33316491382563, 34.87596242399507], [26.1...</td>\n",
       "    </tr>\n",
       "    <tr>\n",
       "      <th>3</th>\n",
       "      <td>IPL</td>\n",
       "      <td>Ctrl_Kxa</td>\n",
       "      <td>F</td>\n",
       "      <td>Int64Index([1, 2, 8, 11, 12, 13, 16, 21, 96, 1...</td>\n",
       "      <td>[[78.46860149130009, 76.54534465922923], [57.4...</td>\n",
       "    </tr>\n",
       "    <tr>\n",
       "      <th>4</th>\n",
       "      <td>IPL</td>\n",
       "      <td>Ctrl_Kxa</td>\n",
       "      <td>F</td>\n",
       "      <td>Int64Index([0, 2, 12, 14, 17, 18, 19, 22, 91, ...</td>\n",
       "      <td>[[20.75804684935549, 17.748095052710422], [14....</td>\n",
       "    </tr>\n",
       "  </tbody>\n",
       "</table>\n",
       "</div>"
      ],
      "text/plain": [
       "  Region     Model Sex                                 Bootstrapped index  \\\n",
       "0    IPL  Ctrl_Kxa   F  Int64Index([2, 9, 17, 18, 90, 99, 100, 102, 10...   \n",
       "1    IPL  Ctrl_Kxa   F  Int64Index([0, 1, 6, 11, 12, 14, 15, 21, 90, 9...   \n",
       "2    IPL  Ctrl_Kxa   F  Int64Index([2, 4, 6, 8, 9, 10, 11, 95, 96, 106...   \n",
       "3    IPL  Ctrl_Kxa   F  Int64Index([1, 2, 8, 11, 12, 13, 16, 21, 96, 1...   \n",
       "4    IPL  Ctrl_Kxa   F  Int64Index([0, 2, 12, 14, 17, 18, 19, 22, 91, ...   \n",
       "\n",
       "                                            Barcodes  \n",
       "0  [[34.33316491382563, 34.87596242399507], [26.1...  \n",
       "1  [[20.75804684935549, 17.748095052710422], [14....  \n",
       "2  [[34.33316491382563, 34.87596242399507], [26.1...  \n",
       "3  [[78.46860149130009, 76.54534465922923], [57.4...  \n",
       "4  [[20.75804684935549, 17.748095052710422], [14....  "
      ]
     },
     "execution_count": 15,
     "metadata": {},
     "output_type": "execute_result"
    }
   ],
   "source": [
    "_morphOMICs.morphoframe[\"bootstrap_frame\"].head()"
   ]
  },
  {
   "cell_type": "code",
   "execution_count": 16,
   "metadata": {},
   "outputs": [
    {
     "data": {
      "text/plain": [
       "Region  Model     Sex\n",
       "IPL     Ctrl_Kxa  F      500\n",
       "                  M      500\n",
       "OPL     Ctrl_Kxa  F      500\n",
       "                  M      500\n",
       "dtype: int64"
      ]
     },
     "execution_count": 16,
     "metadata": {},
     "output_type": "execute_result"
    }
   ],
   "source": [
    "_morphOMICs.morphoframe[\"bootstrap_frame\"].pivot_table(\n",
    "    index=[\"Region\", \"Model\", \"Sex\"], aggfunc=\"size\"\n",
    ")"
   ]
  },
  {
   "attachments": {},
   "cell_type": "markdown",
   "metadata": {},
   "source": [
    "#### <code>Bootstrap</code> also returns a metadata (<code><span style=\"color:#ff8a80\">_morphOMICs.metadata[_morphOMICs.parameters[\"*Bootstrap*\"][\"*morphoinfo_name*\"]]</span></code>) which contains the conditions with which you performed <code>Bootstrap</code>."
   ]
  },
  {
   "cell_type": "code",
   "execution_count": 17,
   "metadata": {},
   "outputs": [
    {
     "data": {
      "text/html": [
       "<div>\n",
       "<style scoped>\n",
       "    .dataframe tbody tr th:only-of-type {\n",
       "        vertical-align: middle;\n",
       "    }\n",
       "\n",
       "    .dataframe tbody tr th {\n",
       "        vertical-align: top;\n",
       "    }\n",
       "\n",
       "    .dataframe thead th {\n",
       "        text-align: right;\n",
       "    }\n",
       "</style>\n",
       "<table border=\"1\" class=\"dataframe\">\n",
       "  <thead>\n",
       "    <tr style=\"text-align: right;\">\n",
       "      <th></th>\n",
       "      <th>Region</th>\n",
       "      <th>Model</th>\n",
       "      <th>Sex</th>\n",
       "    </tr>\n",
       "  </thead>\n",
       "  <tbody>\n",
       "    <tr>\n",
       "      <th>0</th>\n",
       "      <td>IPL</td>\n",
       "      <td>Ctrl_Kxa</td>\n",
       "      <td>F</td>\n",
       "    </tr>\n",
       "    <tr>\n",
       "      <th>1</th>\n",
       "      <td>IPL</td>\n",
       "      <td>Ctrl_Kxa</td>\n",
       "      <td>F</td>\n",
       "    </tr>\n",
       "    <tr>\n",
       "      <th>2</th>\n",
       "      <td>IPL</td>\n",
       "      <td>Ctrl_Kxa</td>\n",
       "      <td>F</td>\n",
       "    </tr>\n",
       "    <tr>\n",
       "      <th>3</th>\n",
       "      <td>IPL</td>\n",
       "      <td>Ctrl_Kxa</td>\n",
       "      <td>F</td>\n",
       "    </tr>\n",
       "    <tr>\n",
       "      <th>4</th>\n",
       "      <td>IPL</td>\n",
       "      <td>Ctrl_Kxa</td>\n",
       "      <td>F</td>\n",
       "    </tr>\n",
       "    <tr>\n",
       "      <th>...</th>\n",
       "      <td>...</td>\n",
       "      <td>...</td>\n",
       "      <td>...</td>\n",
       "    </tr>\n",
       "    <tr>\n",
       "      <th>1995</th>\n",
       "      <td>OPL</td>\n",
       "      <td>Ctrl_Kxa</td>\n",
       "      <td>M</td>\n",
       "    </tr>\n",
       "    <tr>\n",
       "      <th>1996</th>\n",
       "      <td>OPL</td>\n",
       "      <td>Ctrl_Kxa</td>\n",
       "      <td>M</td>\n",
       "    </tr>\n",
       "    <tr>\n",
       "      <th>1997</th>\n",
       "      <td>OPL</td>\n",
       "      <td>Ctrl_Kxa</td>\n",
       "      <td>M</td>\n",
       "    </tr>\n",
       "    <tr>\n",
       "      <th>1998</th>\n",
       "      <td>OPL</td>\n",
       "      <td>Ctrl_Kxa</td>\n",
       "      <td>M</td>\n",
       "    </tr>\n",
       "    <tr>\n",
       "      <th>1999</th>\n",
       "      <td>OPL</td>\n",
       "      <td>Ctrl_Kxa</td>\n",
       "      <td>M</td>\n",
       "    </tr>\n",
       "  </tbody>\n",
       "</table>\n",
       "<p>2000 rows × 3 columns</p>\n",
       "</div>"
      ],
      "text/plain": [
       "     Region     Model Sex\n",
       "0       IPL  Ctrl_Kxa   F\n",
       "1       IPL  Ctrl_Kxa   F\n",
       "2       IPL  Ctrl_Kxa   F\n",
       "3       IPL  Ctrl_Kxa   F\n",
       "4       IPL  Ctrl_Kxa   F\n",
       "...     ...       ...  ..\n",
       "1995    OPL  Ctrl_Kxa   M\n",
       "1996    OPL  Ctrl_Kxa   M\n",
       "1997    OPL  Ctrl_Kxa   M\n",
       "1998    OPL  Ctrl_Kxa   M\n",
       "1999    OPL  Ctrl_Kxa   M\n",
       "\n",
       "[2000 rows x 3 columns]"
      ]
     },
     "execution_count": 17,
     "metadata": {},
     "output_type": "execute_result"
    }
   ],
   "source": [
    "_morphOMICs.metadata[\"bootstrap_info\"]"
   ]
  },
  {
   "attachments": {},
   "cell_type": "markdown",
   "metadata": {},
   "source": [
    "<br></br>\n",
    "#### Then, we calculate the <code>Persistence_Images</code> from the bootstrapped barcodes in <code><span style=\"color:#ff8a80\">_morphOMICs.morphoframe[_morphOMICs.parameters[\"*Bootstrap*\"][\"*bootstrapframe_name*\"]]</span></code>."
   ]
  },
  {
   "cell_type": "code",
   "execution_count": 18,
   "metadata": {},
   "outputs": [],
   "source": [
    "# parameters for calculating persistence images\n",
    "_morphOMICs.parameters[\"Persistence_Images\"] = tomli.loads(\n",
    "    \"\"\"\n",
    "# if not 0, must contain the filepath to the bootstrapframe\n",
    "\"morphoframe_filepath\" = 0\n",
    "\"morphoframe_name\" = \"bootstrap_frame\"\n",
    "\n",
    "\n",
    "# paramteres for calculating persistence images\n",
    "# spread of the Gaussian\n",
    "\"bw_method\" = 0.5\n",
    "# how to normalize the persistence image, can be \"sum\" or \"max\"\n",
    "\"norm_method\" = \"sum\"\n",
    "# constraints to the axes limits\n",
    "\"xlims\" = [0, 200]\n",
    "\"ylims\" = [0, 200]\n",
    "# if not 0, must point to the location containing the weights to each bar\n",
    "\"barcode_weight\" = 0\n",
    "\n",
    "\n",
    "# I would advise saving the data; value is either `true` or `false` (warning: take note that all the letters are in lower case)\n",
    "\"save_data\" = true\n",
    "# path to folder where to store bootstrapped conditions\n",
    "\"save_folder\" = \"/media/drive_siegert/RyCu/Projects/TMD/_Results/Retina_Morphomics/Retina_sample/\"\n",
    "# if 0, morphOMICs will automatically create a file prefix, i.e., Morphomics.PID[xxx].[barcode_filter].Bootstrap.\n",
    "# Otherwise, this will be used as the file prefix\n",
    "\"file_prefix\" = 0\n",
    "\"\"\"\n",
    ")"
   ]
  },
  {
   "cell_type": "code",
   "execution_count": 19,
   "metadata": {},
   "outputs": [
    {
     "name": "stdout",
     "output_type": "stream",
     "text": [
      "Calculating persistence images...\n",
      "...done! \n",
      "\n"
     ]
    }
   ],
   "source": [
    "_morphOMICs.Persistence_Images()"
   ]
  },
  {
   "attachments": {},
   "cell_type": "markdown",
   "metadata": {},
   "source": [
    "#### Note that <code>Persistence_Images</code> creates a NumPy array containing the flattened persistence images (a persistence image is 100x100 pixels) and stores it in <code><span style=\"color:#ff8a80\">_morphOMICs.metadata[\"PI_matrix\"]</span></code>."
   ]
  },
  {
   "cell_type": "code",
   "execution_count": 20,
   "metadata": {},
   "outputs": [
    {
     "data": {
      "text/plain": [
       "(2000, 10000)"
      ]
     },
     "execution_count": 20,
     "metadata": {},
     "output_type": "execute_result"
    }
   ],
   "source": [
    "_morphOMICs.metadata[\"PI_matrix\"].shape"
   ]
  },
  {
   "attachments": {},
   "cell_type": "markdown",
   "metadata": {},
   "source": [
    "<br></br>\n",
    "#### Now that we have calculated the persistence images, we can infer a lower dimensional manifold using <code>UMAP</code>."
   ]
  },
  {
   "cell_type": "code",
   "execution_count": 21,
   "metadata": {},
   "outputs": [],
   "source": [
    "# parameters for calculating persistence images\n",
    "_morphOMICs.parameters[\"UMAP\"] = tomli.loads(\n",
    "    \"\"\"\n",
    "# if not 0, must contain the filepath to the bootstrapframe\n",
    "\"PersistenceImages_filepath\" = 0\n",
    "\n",
    "\n",
    "# if 0, no pixel filtering will be done\n",
    "\"filter_pixels\" = 1\n",
    "# if not 0, must contain the filepath to the indices of the persistence image that will be filtered\n",
    "\"filteredpixelindex_filepath\" = 0\n",
    "# if filteredpixedindex_filepath is not zero, this will be ignored\n",
    "\"pixel_std_cutoff\" = 1e-4\n",
    "\n",
    "\n",
    "# if 0, the persistence image array will not be initially reduced\n",
    "# do not do this if you plan to use the UMAP function for mapping\n",
    "\"run_PCA\" = 0\n",
    "\"n_PCs\" = 50\n",
    "\n",
    "\n",
    "# UMAP parameters\n",
    "\"n_neighbors\" = 300\n",
    "\"min_dist\" = 0.05\n",
    "\"spread\" = 3.0\n",
    "\"random_state\" = 34151\n",
    "\"metric\" = \"manhattan\"\n",
    "\"densmap\" = 0 # zero is false\n",
    "\"n_components\" = 3\n",
    "\n",
    "\n",
    "# I would advise saving the data; value is either `true` or `false` (warning: take note that all the letters are in lower case)\n",
    "\"save_data\" = true\n",
    "# path to folder where to store UMAP function and reduced manifold coordinates\n",
    "\"save_folder\" = \"/media/drive_siegert/RyCu/Projects/TMD/_Results/Retina_Morphomics/Retina_sample/\"\n",
    "# if 0, morphOMICs will automatically create a file prefix\n",
    "# Otherwise, this will be used as the file prefix\n",
    "\"file_prefix\" = 0\n",
    "\"\"\"\n",
    ")"
   ]
  },
  {
   "cell_type": "code",
   "execution_count": 22,
   "metadata": {},
   "outputs": [],
   "source": [
    "_morphOMICs.UMAP()"
   ]
  },
  {
   "attachments": {},
   "cell_type": "markdown",
   "metadata": {},
   "source": [
    "#### Running <code>UMAP</code> creates a NumPy array containing the coordinates of the inferred low-dimensional manifold and stores it in <code><span style=\"color:#ff8a80\">_morphOMICs.metadata[\"X_umap\"]</span></code>."
   ]
  },
  {
   "cell_type": "code",
   "execution_count": 23,
   "metadata": {},
   "outputs": [
    {
     "data": {
      "text/plain": [
       "(2000, 3)"
      ]
     },
     "execution_count": 23,
     "metadata": {},
     "output_type": "execute_result"
    }
   ],
   "source": [
    "_morphOMICs.metadata[\"X_umap\"].shape"
   ]
  },
  {
   "attachments": {},
   "cell_type": "markdown",
   "metadata": {},
   "source": [
    "<br></br>\n",
    "#### Then, we prepare a _.csv file_ which summarizes the conditions and its coordinate in the UMAP space. You can upload this file in the <code>_morphOMICs dashboard_</code>."
   ]
  },
  {
   "cell_type": "code",
   "execution_count": 24,
   "metadata": {},
   "outputs": [],
   "source": [
    "# parameters for calculating persistence images\n",
    "_morphOMICs.parameters[\"Prepare_ReductionInfo\"] = tomli.loads(\n",
    "    \"\"\"\n",
    "\"declare_filepaths\" = false\n",
    "\"UMAP_filepath\" = 0\n",
    "\"BootstrapInfo_filepath\" = 0\n",
    "\n",
    "# dictionary keys to the metadata\n",
    "\"coordinate_key\" = \"X_umap\"\n",
    "\"morphoinfo_key\" = \"bootstrap_info\"\n",
    "\"coordinate_axisnames\" = \"UMAP\"\n",
    "\n",
    "# path to folder where to store UMAP function and reduced manifold coordinates\n",
    "\"save_folder\" = \"/media/drive_siegert/RyCu/Projects/TMD/_Results/Retina_Morphomics/Retina_sample/\"\n",
    "# if 0, morphOMICs will automatically create a file prefix\n",
    "# Otherwise, this will be used as the file prefix\n",
    "\"file_prefix\" = 0\n",
    "\"\"\"\n",
    ")"
   ]
  },
  {
   "cell_type": "code",
   "execution_count": 25,
   "metadata": {},
   "outputs": [],
   "source": [
    "_morphOMICs.Prepare_ReductionInfo()"
   ]
  },
  {
   "attachments": {},
   "cell_type": "markdown",
   "metadata": {},
   "source": [
    "<br></br>\n",
    "#### Finally, we can visualize the UMAP manifold through an interactive 3D plot using <code>Plotting</code>, which takes advantage of the <code>ipyvolume</code> library. Note that you first need to fill out a **<span style=\"color:#607d8b\">_colormap.csv_</span>** file in **<span style=\"color:#424242\">morphOMICs_v2/Parameter_files</span>**"
   ]
  },
  {
   "cell_type": "code",
   "execution_count": null,
   "metadata": {},
   "outputs": [],
   "source": [
    "# parameters for calculating persistence images\n",
    "_morphOMICs.parameters[\"Plotting\"] = tomli.loads(\n",
    "    \"\"\"\n",
    "# if 0, you must supply Coordinate_filepath AND MorphoInfo_filepath\n",
    "# else, you can either supply the ReductionInfo_filepath, \n",
    "# or if you want to infer the manifold coordinates and morphoinfo_frame from Protocol instance, supply any character other than '0'\n",
    "\"ReductionInfo_filepath\" = [\n",
    "\"infer\",\n",
    "# reductioninfo_filepath2,\n",
    "# reductioninfo_filepath3,\n",
    "]\n",
    "\"coordinate_axisnames\" = \"UMAP\"\n",
    "\n",
    "\n",
    "\"coordinate_key\" = \"X_umap\"\n",
    "\"morphoinfo_key\" = \"bootstrap_info\"\n",
    "\n",
    "\n",
    "# If these are not 0, must point to the location of the manifold coordinates\n",
    "\"Coordinate_filepath\" = [ \n",
    "# coordinate_filepath1,\n",
    "# coordinate_filepath2,\n",
    "# coordinate_filepath3,\n",
    "]\n",
    "# If these are not 0, must point to the location of the morpho_infoframe that corresponds to each element of `Coordinate_filepath`\n",
    "\"MorphoInfo_filepath\" = [ \n",
    "# morphoinfo_filepath1,\n",
    "# morphoinfo_filepath2,\n",
    "# morphoinfo_filepath3,\n",
    "]\n",
    "\n",
    "# Location to the color mapping that will be used\n",
    "# \n",
    "\"colormap_filepath\" = [\n",
    "    \"/media/drive_siegert/RyCu/Projects/TMD/_Tutorials/_morphOMICs_v2/colormap.1.csv\",\n",
    "# colapmap_filepath2,\n",
    "# colapmap_filepath3,\n",
    "]\n",
    "\n",
    "# Must correspond to each element in `Coordinate_filepath`\n",
    "label_prefixes = [\n",
    "    \"Sample\"\n",
    "# label_prefix2,\n",
    "# label_prefix3,\n",
    "]\n",
    "\n",
    "# If you need to substitute the name of a condition in morpho_infoframe, use this\n",
    "# \n",
    "\"Substitutions\" = [\n",
    "#    [\n",
    "#        [\"Time\", \"Adult\", \"P30\"], # replaces all instances of `Adult` in the `Time` column to `P30`\n",
    "#        # replaces all instances of `Cx3cr1-het` and `Cx3cr1-hom` in `Model` column to `Development`\n",
    "#        [\"Model\", \"Cx3cr1_het\",  \"Development\"], \n",
    "#        [\"Model\", \"Cx3cr1_hom\",  \"Development\"], \n",
    "#    ],\n",
    "#   [ substitutions for morphoinfo_filepath2 ],\n",
    "#   [ substitutions for morphoinfo_filepath3 ],\n",
    "]\n",
    "\n",
    "# Trigger to show the interactive plot\n",
    "\"show_plot\" = true\n",
    "\n",
    "# I would advise saving the data; value is either `true` or `false` (warning: take note that all the letters are in lower case)\n",
    "\"save_data\" = true\n",
    "\n",
    "# path to folder where to store UMAP function and reduced manifold coordinates\n",
    "\"save_folder\" = \"/media/drive_siegert/RyCu/Projects/TMD/_Results/Retina_Morphomics/Retina_sample/\"\n",
    "\n",
    "# if 0, morphOMICs will automatically create a file prefix\n",
    "# Otherwise, this will be used as the file prefix\n",
    "\"file_prefix\" = \"Retina_3DSpectrum\"\n",
    "\"\"\"\n",
    ")"
   ]
  },
  {
   "cell_type": "code",
   "execution_count": 29,
   "metadata": {},
   "outputs": [
    {
     "name": "stdout",
     "output_type": "stream",
     "text": [
      "The following file was not found: infer\n",
      "Inferring the morpho_infoframe and manifold coordinates from Protocol class.\n",
      "No substitutions for coordinate set 1...\n"
     ]
    },
    {
     "data": {
      "application/vnd.jupyter.widget-view+json": {
       "model_id": "a8a6924987104fc69742dde85f3c7a6a",
       "version_major": 2,
       "version_minor": 0
      },
      "text/plain": [
       "Container(figure=Figure(box_center=[0.5, 0.5, 0.5], box_size=[1.0, 1.0, 1.0], camera=PerspectiveCamera(fov=45.…"
      ]
     },
     "metadata": {},
     "output_type": "display_data"
    }
   ],
   "source": [
    "_morphOMICs.Plotting()"
   ]
  },
  {
   "attachments": {},
   "cell_type": "markdown",
   "metadata": {},
   "source": [
    "<br></br>\n",
    "## Congratulations! You have now completed the typical morphOMICs pipeline!"
   ]
  },
  {
   "attachments": {},
   "cell_type": "markdown",
   "metadata": {},
   "source": [
    "### A copy of the parameters file is saved in **<span style=\"color:#424242\">morphOMICs_v2/Tutorial/Morpphomics.Parameters.1.toml</span>**"
   ]
  }
 ],
 "metadata": {
  "kernelspec": {
   "display_name": "Python 3 (ipykernel)",
   "language": "python",
   "name": "python3"
  },
  "language_info": {
   "codemirror_mode": {
    "name": "ipython",
    "version": 3
   },
   "file_extension": ".py",
   "mimetype": "text/x-python",
   "name": "python",
   "nbconvert_exporter": "python",
   "pygments_lexer": "ipython3",
   "version": "3.9.13"
  },
  "toc-autonumbering": false,
  "toc-showcode": true,
  "toc-showmarkdowntxt": true
 },
 "nbformat": 4,
 "nbformat_minor": 4
}
