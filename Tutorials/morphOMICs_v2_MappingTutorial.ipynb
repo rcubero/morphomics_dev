{
 "cells": [
  {
   "attachments": {},
   "cell_type": "markdown",
   "metadata": {},
   "source": [
    "# **morphOMICs_v2 Tutorial Notebook: </br>Mapping novel morphologies into the spectrum**\n",
    "## Author: **Ryan Cubero**\n",
    "### For questions, please contact <a href=\"mailto:rcubero@ist.ac.at\">Ryan</a> <br/> For bugs and feature request, please go to the <a href=\"https://github.com/siegert-lab/MorphOMICs/issues\">morphOMICs GitHub issues page</a> <br/>\n",
    "#### In this notebook, we will go through the modular implementation of <code>morphOMICs</code> to map novel morphological conditions into the spectrum. Note that this tutorial assumes that you have already run <span style=\"color:#424242\">**morphOMICs_v2_Tutorial.ipynb**</span>."
   ]
  },
  {
   "attachments": {},
   "cell_type": "markdown",
   "metadata": {},
   "source": [
    "<br> </br>\n",
    "#### First, let's import all the necessary libraries to make the notebook work."
   ]
  },
  {
   "cell_type": "code",
   "execution_count": 3,
   "metadata": {
    "tags": []
   },
   "outputs": [
    {
     "name": "stderr",
     "output_type": "stream",
     "text": [
      "2023-06-05 14:01:37.854767: I tensorflow/core/platform/cpu_feature_guard.cc:193] This TensorFlow binary is optimized with oneAPI Deep Neural Network Library (oneDNN) to use the following CPU instructions in performance-critical operations:  AVX2 FMA\n",
      "To enable them in other operations, rebuild TensorFlow with the appropriate compiler flags.\n",
      "2023-06-05 14:01:37.950417: W tensorflow/compiler/xla/stream_executor/platform/default/dso_loader.cc:64] Could not load dynamic library 'libcudart.so.11.0'; dlerror: libcudart.so.11.0: cannot open shared object file: No such file or directory\n",
      "2023-06-05 14:01:37.950431: I tensorflow/compiler/xla/stream_executor/cuda/cudart_stub.cc:29] Ignore above cudart dlerror if you do not have a GPU set up on your machine.\n",
      "2023-06-05 14:01:38.380624: W tensorflow/compiler/xla/stream_executor/platform/default/dso_loader.cc:64] Could not load dynamic library 'libnvinfer.so.7'; dlerror: libnvinfer.so.7: cannot open shared object file: No such file or directory\n",
      "2023-06-05 14:01:38.380665: W tensorflow/compiler/xla/stream_executor/platform/default/dso_loader.cc:64] Could not load dynamic library 'libnvinfer_plugin.so.7'; dlerror: libnvinfer_plugin.so.7: cannot open shared object file: No such file or directory\n",
      "2023-06-05 14:01:38.380670: W tensorflow/compiler/tf2tensorrt/utils/py_utils.cc:38] TF-TRT Warning: Cannot dlopen some TensorRT libraries. If you would like to use Nvidia GPU with TensorRT, please make sure the missing libraries mentioned above are installed properly.\n"
     ]
    }
   ],
   "source": [
    "from morphomics import protocols\n",
    "import tomli"
   ]
  },
  {
   "attachments": {},
   "cell_type": "markdown",
   "metadata": {},
   "source": [
    "####  The central feature of <code>morphOMICs_v2</code> is the ***parameters file***. You can check out some examples of the parameter file in **<span style=\"color:#424242\">morphOMICs_v2/Parameter_files</span>**. It is  written in <a href=\"https://toml.io/en/\">TOML</a> which is then parsed into Python as a dictionary."
   ]
  },
  {
   "attachments": {},
   "cell_type": "markdown",
   "metadata": {},
   "source": [
    "<br></br>\n",
    "#### First, let's define the <code>parameters</code> dictionary by calling the <code>Protocols</code>.\n",
    "\n",
    "#### <code>Protocols</code> defines the sequence of modules that will be executed and can be used to create workflows. You can choose the following executables: <code>Input</code>, <code>Load_data</code>, <code>Clean_frame</code>, <code>Bootstrap</code>, <code>Persistence_Images</code>, <code>UMAP</code>, <code>Palantir</code>, <code>Plotting</code>, <code>Mapping</code>, <code>Sholl_curves</code>, <code>Morphometrics</code>, <code>Clear_morphframe</code>.\n",
    "\n",
    "#### In the Protocol below, we will map novel conditions into a pre-calculated UMAP manifold. Here, we will use the sex-specific phenotypes in adult retina from <span style=\"color:#424242\">**morphOMICs_v2_Tutorial.ipynb**</span>. Here, , we, first, load the previously-processed morphologies into <code>morphOMICs_v2</code> using <code>Load_data</code>. Then, we will <code>Clean_frame</code> to drop certain conditions that were loaded but are not needed for downstream analysis or rename some conditions. Then, we will <code>Bootstrap</code> and calculate <code>Persistence_Images</code>. Then, we perform the <code>Mapping</code>, prepare a .csv file that can be loaded with the _morphOMICs dashboard_ using <code>Prepare_ReductionInfo</code> and finally, output an interactive spectrum through <code>Plotting</code>."
   ]
  },
  {
   "cell_type": "code",
   "execution_count": 4,
   "metadata": {},
   "outputs": [],
   "source": [
    "parameters = tomli.loads(\n",
    "    \"\"\"\n",
    "# sequential list of executables\n",
    "# Choices of executables: Input, Load_data, Clean_frame, Bootstrap, Persistence_Images, UMAP, Palantir, Plotting, Mapping, Clear_morphframe, Sholl_curves, Morphometrics \n",
    "# This is an example of a standard morphOMICs pipeline to obtain the morphological spectrum\n",
    "Protocols = [\n",
    "        \"Load_data\",\n",
    "        \"Clean_frame\",\n",
    "        \"Bootstrap\",\n",
    "        \"Persistence_Images\",\n",
    "        \"Mapping\",\n",
    "        \"Prepare_ReductionInfo\",\n",
    "        \"Plotting\",\n",
    "    ]\n",
    "\"\"\"\n",
    ")"
   ]
  },
  {
   "attachments": {},
   "cell_type": "markdown",
   "metadata": {},
   "source": [
    "<br> </br>\n",
    "#### Now, we initialize the <code><span style=\"color:#ff8a80\">_morphOMICs</span></code> class using <code>protocols.Protocols()</code>. Here, we set the <code><span style=\"color:#ff8a80\">Parameters_ID</span></code> to any number. In my use-case, <code><span style=\"color:#ff8a80\">Parameters_ID</span></code>  serves as an indicator for the set of parameters that I am using, which I write down on my notes. It helps make my results reproducible."
   ]
  },
  {
   "cell_type": "code",
   "execution_count": 5,
   "metadata": {},
   "outputs": [
    {
     "name": "stdout",
     "output_type": "stream",
     "text": [
      "Unless you have specified the file prefix in the succeeding executables, \n",
      "this will be the file prefix: Morphomics.PID2\n"
     ]
    }
   ],
   "source": [
    "Parameters_ID = 2\n",
    "_morphOMICs = protocols.Protocols(parameters, Parameters_ID)\n",
    "\n",
    "# It will output the filename prefix for the files that will be subsequently saved"
   ]
  },
  {
   "attachments": {},
   "cell_type": "markdown",
   "metadata": {},
   "source": [
    "<br></br>\n",
    "#### Then, we start with loading the data. Here, we will load morphologies that were already converted to _TMD barcodes_. <code><span style=\"color:#ff8a80\">_morphOMICs.parameters</span></code> contains the parameters that we have initiated before and we should update it with <code>Load_data</code> parameters. I have placed comments on what information is needed."
   ]
  },
  {
   "cell_type": "code",
   "execution_count": 6,
   "metadata": {},
   "outputs": [],
   "source": [
    "# parameters to load 3D morphological reconstructions\n",
    "_morphOMICs.parameters[\"Load_data\"] = tomli.loads(\n",
    "    \"\"\"\n",
    "# path to where the input files are located\n",
    "\"folderpath_to_data\" = \"/media/drive_siegert/RyCu/Projects/TMD/_Data/_TMD_barcodes/Retina_sample\"\n",
    "\"filename_prefix\" = \"Morphomics.PID1.TMD-radial_distances\"\n",
    "\n",
    "# how the input files are separated\n",
    "\"separated_by\" = \"Model\"\n",
    "\"conditions_to_include\" = [\"Ctrl_Kxa4h\",\"Ctrl_Kxa48h\",]\n",
    "\n",
    "# dictionary key where to store the loaded data\n",
    "\"morphoframe_name\" = \"morphoframe\"\n",
    "\"\"\"\n",
    ")"
   ]
  },
  {
   "attachments": {},
   "cell_type": "markdown",
   "metadata": {},
   "source": [
    "#### Let's run <code>Load_data</code>!"
   ]
  },
  {
   "cell_type": "code",
   "execution_count": 7,
   "metadata": {
    "tags": []
   },
   "outputs": [
    {
     "name": "stdout",
     "output_type": "stream",
     "text": [
      "...loading Ctrl_Kxa4h\n",
      "...loading Ctrl_Kxa48h\n"
     ]
    }
   ],
   "source": [
    "_morphOMICs.Load_data()"
   ]
  },
  {
   "attachments": {},
   "cell_type": "markdown",
   "metadata": {},
   "source": [
    "#### <code>Load_data</code> returns the instance <code><span style=\"color:#ff8a80\">_morphOMICs.morphoframe</span></code> which is a dictionary of pandas DataFrame with keys indicated by <code><span style=\"color:#ff8a80\">_morphOMICs.morphoframe[_morphOMICs.parameters[\"*Input*\"][\"*morphoframe_name*\"]]</span></code> which contains the *TMD barcodes* (**Barcodes**)."
   ]
  },
  {
   "cell_type": "code",
   "execution_count": 8,
   "metadata": {},
   "outputs": [
    {
     "data": {
      "text/html": [
       "<div>\n",
       "<style scoped>\n",
       "    .dataframe tbody tr th:only-of-type {\n",
       "        vertical-align: middle;\n",
       "    }\n",
       "\n",
       "    .dataframe tbody tr th {\n",
       "        vertical-align: top;\n",
       "    }\n",
       "\n",
       "    .dataframe thead th {\n",
       "        text-align: right;\n",
       "    }\n",
       "</style>\n",
       "<table border=\"1\" class=\"dataframe\">\n",
       "  <thead>\n",
       "    <tr style=\"text-align: right;\">\n",
       "      <th></th>\n",
       "      <th>Region</th>\n",
       "      <th>Condition</th>\n",
       "      <th>Model</th>\n",
       "      <th>Time</th>\n",
       "      <th>Sex</th>\n",
       "      <th>Animal</th>\n",
       "      <th>_files</th>\n",
       "      <th>Filenames</th>\n",
       "      <th>Morphologies</th>\n",
       "      <th>Barcodes</th>\n",
       "    </tr>\n",
       "  </thead>\n",
       "  <tbody>\n",
       "    <tr>\n",
       "      <th>0</th>\n",
       "      <td>IPL</td>\n",
       "      <td>Adulthood</td>\n",
       "      <td>Ctrl_Kxa4h</td>\n",
       "      <td>Adult</td>\n",
       "      <td>F</td>\n",
       "      <td>CRTLSAL4_F_iba488_cd68647_dapi_1_20161005_IPL</td>\n",
       "      <td>Filament_005_IPL_cleared_Trace_0000_nl_correct...</td>\n",
       "      <td>/media/drive_siegert/RyCu/Projects/TMD/_Data/R...</td>\n",
       "      <td>&lt;morphomics.Neuron.Neuron.Neuron object at 0x7...</td>\n",
       "      <td>[[20.75804684935549, 17.748095052710422], [14....</td>\n",
       "    </tr>\n",
       "    <tr>\n",
       "      <th>1</th>\n",
       "      <td>IPL</td>\n",
       "      <td>Adulthood</td>\n",
       "      <td>Ctrl_Kxa4h</td>\n",
       "      <td>Adult</td>\n",
       "      <td>F</td>\n",
       "      <td>CRTLSAL4_F_iba488_cd68647_dapi_1_20161005_IPL</td>\n",
       "      <td>Filament_005_IPL_cleared_Trace_0001_nl_correct...</td>\n",
       "      <td>/media/drive_siegert/RyCu/Projects/TMD/_Data/R...</td>\n",
       "      <td>&lt;morphomics.Neuron.Neuron.Neuron object at 0x7...</td>\n",
       "      <td>[[78.46860149130009, 76.54534465922923], [57.4...</td>\n",
       "    </tr>\n",
       "    <tr>\n",
       "      <th>2</th>\n",
       "      <td>IPL</td>\n",
       "      <td>Adulthood</td>\n",
       "      <td>Ctrl_Kxa4h</td>\n",
       "      <td>Adult</td>\n",
       "      <td>F</td>\n",
       "      <td>CRTLSAL4_F_iba488_cd68647_dapi_1_20161005_IPL</td>\n",
       "      <td>Filament_005_IPL_cleared_Trace_0002_nl_correct...</td>\n",
       "      <td>/media/drive_siegert/RyCu/Projects/TMD/_Data/R...</td>\n",
       "      <td>&lt;morphomics.Neuron.Neuron.Neuron object at 0x7...</td>\n",
       "      <td>[[34.33316491382563, 34.87596242399507], [26.1...</td>\n",
       "    </tr>\n",
       "    <tr>\n",
       "      <th>3</th>\n",
       "      <td>IPL</td>\n",
       "      <td>Adulthood</td>\n",
       "      <td>Ctrl_Kxa4h</td>\n",
       "      <td>Adult</td>\n",
       "      <td>F</td>\n",
       "      <td>CRTLSAL4_F_iba488_cd68647_dapi_1_20161005_IPL</td>\n",
       "      <td>Filament_005_IPL_cleared_Trace_0003_nl_correct...</td>\n",
       "      <td>/media/drive_siegert/RyCu/Projects/TMD/_Data/R...</td>\n",
       "      <td>&lt;morphomics.Neuron.Neuron.Neuron object at 0x7...</td>\n",
       "      <td>[[122.92604691032585, 119.19617370956183], [66...</td>\n",
       "    </tr>\n",
       "    <tr>\n",
       "      <th>4</th>\n",
       "      <td>IPL</td>\n",
       "      <td>Adulthood</td>\n",
       "      <td>Ctrl_Kxa4h</td>\n",
       "      <td>Adult</td>\n",
       "      <td>F</td>\n",
       "      <td>CRTLSAL4_F_iba488_cd68647_dapi_1_20161005_IPL</td>\n",
       "      <td>Filament_005_IPL_cleared_Trace_0004_nl_correct...</td>\n",
       "      <td>/media/drive_siegert/RyCu/Projects/TMD/_Data/R...</td>\n",
       "      <td>&lt;morphomics.Neuron.Neuron.Neuron object at 0x7...</td>\n",
       "      <td>[[66.91833092658726, 68.64142038885886], [64.8...</td>\n",
       "    </tr>\n",
       "  </tbody>\n",
       "</table>\n",
       "</div>"
      ],
      "text/plain": [
       "  Region  Condition       Model   Time Sex  \\\n",
       "0    IPL  Adulthood  Ctrl_Kxa4h  Adult   F   \n",
       "1    IPL  Adulthood  Ctrl_Kxa4h  Adult   F   \n",
       "2    IPL  Adulthood  Ctrl_Kxa4h  Adult   F   \n",
       "3    IPL  Adulthood  Ctrl_Kxa4h  Adult   F   \n",
       "4    IPL  Adulthood  Ctrl_Kxa4h  Adult   F   \n",
       "\n",
       "                                          Animal  \\\n",
       "0  CRTLSAL4_F_iba488_cd68647_dapi_1_20161005_IPL   \n",
       "1  CRTLSAL4_F_iba488_cd68647_dapi_1_20161005_IPL   \n",
       "2  CRTLSAL4_F_iba488_cd68647_dapi_1_20161005_IPL   \n",
       "3  CRTLSAL4_F_iba488_cd68647_dapi_1_20161005_IPL   \n",
       "4  CRTLSAL4_F_iba488_cd68647_dapi_1_20161005_IPL   \n",
       "\n",
       "                                              _files  \\\n",
       "0  Filament_005_IPL_cleared_Trace_0000_nl_correct...   \n",
       "1  Filament_005_IPL_cleared_Trace_0001_nl_correct...   \n",
       "2  Filament_005_IPL_cleared_Trace_0002_nl_correct...   \n",
       "3  Filament_005_IPL_cleared_Trace_0003_nl_correct...   \n",
       "4  Filament_005_IPL_cleared_Trace_0004_nl_correct...   \n",
       "\n",
       "                                           Filenames  \\\n",
       "0  /media/drive_siegert/RyCu/Projects/TMD/_Data/R...   \n",
       "1  /media/drive_siegert/RyCu/Projects/TMD/_Data/R...   \n",
       "2  /media/drive_siegert/RyCu/Projects/TMD/_Data/R...   \n",
       "3  /media/drive_siegert/RyCu/Projects/TMD/_Data/R...   \n",
       "4  /media/drive_siegert/RyCu/Projects/TMD/_Data/R...   \n",
       "\n",
       "                                        Morphologies  \\\n",
       "0  <morphomics.Neuron.Neuron.Neuron object at 0x7...   \n",
       "1  <morphomics.Neuron.Neuron.Neuron object at 0x7...   \n",
       "2  <morphomics.Neuron.Neuron.Neuron object at 0x7...   \n",
       "3  <morphomics.Neuron.Neuron.Neuron object at 0x7...   \n",
       "4  <morphomics.Neuron.Neuron.Neuron object at 0x7...   \n",
       "\n",
       "                                            Barcodes  \n",
       "0  [[20.75804684935549, 17.748095052710422], [14....  \n",
       "1  [[78.46860149130009, 76.54534465922923], [57.4...  \n",
       "2  [[34.33316491382563, 34.87596242399507], [26.1...  \n",
       "3  [[122.92604691032585, 119.19617370956183], [66...  \n",
       "4  [[66.91833092658726, 68.64142038885886], [64.8...  "
      ]
     },
     "execution_count": 8,
     "metadata": {},
     "output_type": "execute_result"
    }
   ],
   "source": [
    "_morphOMICs.morphoframe[\"morphoframe\"].head()"
   ]
  },
  {
   "attachments": {},
   "cell_type": "markdown",
   "metadata": {},
   "source": [
    "#### We can also count the number of morphologies in each condition."
   ]
  },
  {
   "cell_type": "code",
   "execution_count": 9,
   "metadata": {},
   "outputs": [
    {
     "data": {
      "text/plain": [
       "Region  Model        Sex\n",
       "IPL     Ctrl_Kxa48h  F      34\n",
       "                     M      36\n",
       "        Ctrl_Kxa4h   F      23\n",
       "                     M      29\n",
       "OPL     Ctrl_Kxa48h  F      30\n",
       "                     M      27\n",
       "        Ctrl_Kxa4h   F      20\n",
       "                     M      18\n",
       "dtype: int64"
      ]
     },
     "execution_count": 9,
     "metadata": {},
     "output_type": "execute_result"
    }
   ],
   "source": [
    "_morphOMICs.morphoframe[\"morphoframe\"].pivot_table(\n",
    "    index=[\"Region\", \"Model\", \"Sex\"], aggfunc=\"size\"\n",
    ")"
   ]
  },
  {
   "attachments": {},
   "cell_type": "markdown",
   "metadata": {},
   "source": [
    "<br></br>\n",
    "#### Then, we clean out the _morphoframe_ to remove empty morphologies (which corresponds to artifacts during the Imaris semi-automated reconstructions) as well as renaming conditions using <code>Clean_frame</code>."
   ]
  },
  {
   "cell_type": "code",
   "execution_count": 10,
   "metadata": {},
   "outputs": [],
   "source": [
    "# criteria for cleaning the input files\n",
    "_morphOMICs.parameters[\"Clean_frame\"] = tomli.loads(\n",
    "    \"\"\"\n",
    "# if not 0, must contain the filepath to the morphoframe which will then be saved into morphoframe_name\n",
    "# otherwise, `morphoframe_name` is the morphoframe that will be cleaned up\n",
    "\"morphoframe_filepath\" = 0\n",
    "\"morphoframe_name\" = \"morphoframe\"\n",
    "\n",
    "# remove morphologies if the number of bars is less than the cutoff\n",
    "\"barcode_size_cutoff\" = 5\n",
    "\n",
    "# retain bars whose length satisfy a certain cutoff\n",
    "# must be an array with three elements, [\"greater_than\" \"less_than\" or \"within\", bar length condition (must be an array if using \"within\"), \"drop\" or \"keep\"]\n",
    "# the example below keeps bars whose length is greater than 0, and less than 200.\n",
    "# if not used, comment the elements of `barlength_cutoff` out\n",
    "\"barlength_cutoff\" = [ \n",
    "#            [\"less_than\", 0, \"drop\"],\n",
    "#            [\"greater_than\", 200, \"drop\"], \n",
    "#            [\"within\", [0,200], \"keep\"],\n",
    "            ]\n",
    "\n",
    "# enumerate which conditions will be merged\n",
    "# must be an array with three elements [a header of the info_frame (is an element of `Input.conditions`),\n",
    "#                                       a list of conditions that will be merged (must be an array), \n",
    "#                                       the new name of the merged conditions]\n",
    "# if not used, comment the elements of `combine_conditions` out\n",
    "\"combine_conditions\" = [\n",
    "    [\"Model\", [\"Ctrl_Kxa4h\", \"Ctrl_Kxa48h\"], \"Ctrl_Kxa\"]\n",
    "]\n",
    "\n",
    "# enumerate restrictions\n",
    "# must be an array with three elements [a header of the info_frame (is an element of `Input.conditions`),  \n",
    "#                                       list of conditions to either drop or keep (must be an array), \n",
    "#                                       \"drop\" or \"keep\" conditions specified]\n",
    "# if not used, comment the elements of `restrict_conditions` out\n",
    "\"restrict_conditions\" = [\n",
    "#    [\"Region\", [\"GCL\"], \"drop\"],\n",
    "#    [\"Model\", [\"rd1\",\"Cx3cr1_het\",\"Ctrl_Iso\",\"Ctrl_Kxa\",\"rd10\",], \"keep\"],\n",
    "]\n",
    "\n",
    "# I would advise saving the cleaned data; value is either `true` or `false` (warning: take note that all the letters are in lower case)\n",
    "\"save_data\" = true\n",
    "\n",
    "# location where to save the data\n",
    "\"save_folder\" = \"/media/drive_siegert/RyCu/Projects/TMD/_Data/_TMD_barcodes/Retina_sample\"\n",
    "\n",
    "# if 0, morphOMICs will automatically create a file prefix, i.e., Morphomics.PID[xxx].[barcode_filter].Cleaned.\n",
    "# Otherwise, this will be used as the file prefix\n",
    "\"file_prefix\" = 0\n",
    "\"\"\"\n",
    ")"
   ]
  },
  {
   "cell_type": "code",
   "execution_count": 11,
   "metadata": {},
   "outputs": [
    {
     "name": "stdout",
     "output_type": "stream",
     "text": [
      "Removing morphologies with barcode size less than 5.00...\n",
      "Replacing all instances of `['Ctrl_Kxa4h', 'Ctrl_Kxa48h']` in the `Model` morphoframe column with Ctrl_Kxa\n",
      "Done!\n"
     ]
    }
   ],
   "source": [
    "_morphOMICs.Clean_frame()"
   ]
  },
  {
   "cell_type": "code",
   "execution_count": 12,
   "metadata": {},
   "outputs": [
    {
     "data": {
      "text/plain": [
       "Region  Model     Sex\n",
       "IPL     Ctrl_Kxa  F      56\n",
       "                  M      65\n",
       "OPL     Ctrl_Kxa  F      49\n",
       "                  M      45\n",
       "dtype: int64"
      ]
     },
     "execution_count": 12,
     "metadata": {},
     "output_type": "execute_result"
    }
   ],
   "source": [
    "_morphOMICs.morphoframe[\"morphoframe\"].pivot_table(\n",
    "    index=[\"Region\", \"Model\", \"Sex\"], aggfunc=\"size\"\n",
    ")"
   ]
  },
  {
   "attachments": {},
   "cell_type": "markdown",
   "metadata": {},
   "source": [
    "#### Notice that we have combined \"Ctrl_Kxa4h\" and \"Ctrl_Kxa48h\" into one condition."
   ]
  },
  {
   "attachments": {},
   "cell_type": "markdown",
   "metadata": {},
   "source": [
    "<br></br>\n",
    "#### Now, we <code>Bootstrap</code> the morphologies within  <code><span style=\"color:#ff8a80\">_morphOMICs.morphoframe[_morphOMICs.parameters[\"*Input*\"][\"*morphoframe_name*\"]]</span></code>."
   ]
  },
  {
   "cell_type": "code",
   "execution_count": 13,
   "metadata": {},
   "outputs": [],
   "source": [
    "# parameters for bootstrapping\n",
    "_morphOMICs.parameters[\"Bootstrap\"] = tomli.loads(\n",
    "    \"\"\"\n",
    "# if not 0, must contain the filepath to the morphoframe\n",
    "\"morphoframe_filepath\" = 0\n",
    "\"morphoframe_name\" = \"morphoframe\"\n",
    "\n",
    "# must be an array with two elements [feature (one of the headers in morphoframe), \"bars\", \"scalar\" or \"array\"]\n",
    "\"feature_to_bootstrap\" = [\"Barcodes\", \"bars\"]           # bootstraps by collapsing the lists into a single list \n",
    "# \"feature_to_bootstrap\" = [\"Barcode_length\", \"scalar\"] # bootstraps by taking the average of an array\n",
    "# \"feature_to_bootstrap\" = [\"Sholl\", \"array\"]           # # bootstraps by taking the element-wise average of a high-dimensional NumPy array\n",
    "\n",
    "# use this if you want to constraint your bootstrapping to a subset of conditions that you did not drop using `Clean_frame`\n",
    "# column name in morphoframe where the bootstrap_conditions are located\n",
    "\"condition_column\" = \"Model\"\n",
    "# conditions to bootstrap\n",
    "# if this array is empty, it will bootstrap across all conditions in the morphoframe\n",
    "\"bootstrap_conditions\" = [\n",
    "\n",
    "        ]\n",
    "        \n",
    "\n",
    "# which conditions combinations which bootstrapping will consider as a unique condition\n",
    "\"bootstrap_resolution\" = [\n",
    "                    \"Region\",\n",
    "                    \"Model\",\n",
    "        ]\n",
    "        \n",
    "        \n",
    "# set the seed of the random number, for reproducibility\n",
    "\"rand_seed\" = 34151\n",
    "\n",
    "\n",
    "# if this is opted, N_pop will be calculated as ratio*(total number of morphologies in a given condition combination)\n",
    "# if 0, you must input N_pop\n",
    "\"ratio\" = 0\n",
    "# number of morphologies to take averages of\n",
    "# set this to 1 if you don't want to perform bootstrapping\n",
    "\"N_pop\" = 15\n",
    "# number of bootstrap samples to create\n",
    "\"N_samples\" = 1000\n",
    "\n",
    "\n",
    "# where the bootstrapped morphoframes will be stored\n",
    "\"bootstrapframe_name\" = \"bootstrap_frame\"\n",
    "\"morphoinfo_name\" = \"bootstrap_info\"\n",
    "\n",
    "\n",
    "# I would advise saving the data; value is either `true` or `false` (warning: take note that all the letters are in lower case)\n",
    "\"save_data\" = true\n",
    "# path to folder where to store bootstrapped conditions\n",
    "\"save_folder\" = \"/media/drive_siegert/RyCu/Projects/TMD/_Results/Retina_Morphomics/Retina_sample/\"\n",
    "# if 0, morphOMICs will automatically create a file prefix, i.e., Morphomics.PID[xxx].[barcode_filter].Bootstrap.\n",
    "# Otherwise, this will be used as the file prefix\n",
    "\"file_prefix\" = 0\n",
    "\"\"\"\n",
    ")"
   ]
  },
  {
   "cell_type": "code",
   "execution_count": 14,
   "metadata": {},
   "outputs": [
    {
     "name": "stdout",
     "output_type": "stream",
     "text": [
      "Bootstrapping with the following parameters: \n",
      "bootstrap resolution: Region-Model\n",
      "bootstrap size: 15\n",
      "number of bootstraps: 1000\n",
      "Performing bootstrapping for IPL_Ctrl_Kxa...\n",
      "There are 121 morphologies to bootstrap...\n",
      "Performing subsampling by random selection...\n",
      "...done! \n",
      "\n",
      "Performing bootstrapping for OPL_Ctrl_Kxa...\n",
      "There are 94 morphologies to bootstrap...\n",
      "Performing subsampling by random selection...\n",
      "...done! \n",
      "\n",
      "Done!\n"
     ]
    }
   ],
   "source": [
    "_morphOMICs.Bootstrap()"
   ]
  },
  {
   "attachments": {},
   "cell_type": "markdown",
   "metadata": {},
   "source": [
    "#### <code>Bootstrap</code> returns the instance <code><span style=\"color:#ff8a80\">_morphOMICs.morphoframe[_morphOMICs.parameters[\"*Bootstrap*\"][\"*bootstrapframe_name*\"]]</span></code> which contains the *TMD barcodes* (**Barcodes**)."
   ]
  },
  {
   "cell_type": "code",
   "execution_count": 15,
   "metadata": {},
   "outputs": [
    {
     "data": {
      "text/html": [
       "<div>\n",
       "<style scoped>\n",
       "    .dataframe tbody tr th:only-of-type {\n",
       "        vertical-align: middle;\n",
       "    }\n",
       "\n",
       "    .dataframe tbody tr th {\n",
       "        vertical-align: top;\n",
       "    }\n",
       "\n",
       "    .dataframe thead th {\n",
       "        text-align: right;\n",
       "    }\n",
       "</style>\n",
       "<table border=\"1\" class=\"dataframe\">\n",
       "  <thead>\n",
       "    <tr style=\"text-align: right;\">\n",
       "      <th></th>\n",
       "      <th>Region</th>\n",
       "      <th>Model</th>\n",
       "      <th>Bootstrapped index</th>\n",
       "      <th>Barcodes</th>\n",
       "    </tr>\n",
       "  </thead>\n",
       "  <tbody>\n",
       "    <tr>\n",
       "      <th>0</th>\n",
       "      <td>IPL</td>\n",
       "      <td>Ctrl_Kxa</td>\n",
       "      <td>Int64Index([10, 13, 22, 23, 28, 91, 95, 121, 1...</td>\n",
       "      <td>[[57.026284764133116, 59.91828139224289], [49....</td>\n",
       "    </tr>\n",
       "    <tr>\n",
       "      <th>1</th>\n",
       "      <td>IPL</td>\n",
       "      <td>Ctrl_Kxa</td>\n",
       "      <td>Int64Index([2, 21, 24, 35, 47, 95, 100, 107, 1...</td>\n",
       "      <td>[[34.33316491382563, 34.87596242399507], [26.1...</td>\n",
       "    </tr>\n",
       "    <tr>\n",
       "      <th>2</th>\n",
       "      <td>IPL</td>\n",
       "      <td>Ctrl_Kxa</td>\n",
       "      <td>Int64Index([1, 14, 24, 25, 34, 38, 106, 108, 1...</td>\n",
       "      <td>[[78.46860149130009, 76.54534465922923], [57.4...</td>\n",
       "    </tr>\n",
       "    <tr>\n",
       "      <th>3</th>\n",
       "      <td>IPL</td>\n",
       "      <td>Ctrl_Kxa</td>\n",
       "      <td>Int64Index([5, 20, 27, 34, 39, 45, 48, 49, 97,...</td>\n",
       "      <td>[[42.20533455618917, 36.56362763731221], [27.1...</td>\n",
       "    </tr>\n",
       "    <tr>\n",
       "      <th>4</th>\n",
       "      <td>IPL</td>\n",
       "      <td>Ctrl_Kxa</td>\n",
       "      <td>Int64Index([6, 13, 17, 18, 35, 37, 51, 91, 94,...</td>\n",
       "      <td>[[25.36036431126313, 19.520723705846844], [9.8...</td>\n",
       "    </tr>\n",
       "  </tbody>\n",
       "</table>\n",
       "</div>"
      ],
      "text/plain": [
       "  Region     Model                                 Bootstrapped index  \\\n",
       "0    IPL  Ctrl_Kxa  Int64Index([10, 13, 22, 23, 28, 91, 95, 121, 1...   \n",
       "1    IPL  Ctrl_Kxa  Int64Index([2, 21, 24, 35, 47, 95, 100, 107, 1...   \n",
       "2    IPL  Ctrl_Kxa  Int64Index([1, 14, 24, 25, 34, 38, 106, 108, 1...   \n",
       "3    IPL  Ctrl_Kxa  Int64Index([5, 20, 27, 34, 39, 45, 48, 49, 97,...   \n",
       "4    IPL  Ctrl_Kxa  Int64Index([6, 13, 17, 18, 35, 37, 51, 91, 94,...   \n",
       "\n",
       "                                            Barcodes  \n",
       "0  [[57.026284764133116, 59.91828139224289], [49....  \n",
       "1  [[34.33316491382563, 34.87596242399507], [26.1...  \n",
       "2  [[78.46860149130009, 76.54534465922923], [57.4...  \n",
       "3  [[42.20533455618917, 36.56362763731221], [27.1...  \n",
       "4  [[25.36036431126313, 19.520723705846844], [9.8...  "
      ]
     },
     "execution_count": 15,
     "metadata": {},
     "output_type": "execute_result"
    }
   ],
   "source": [
    "_morphOMICs.morphoframe[\"bootstrap_frame\"].head()"
   ]
  },
  {
   "cell_type": "code",
   "execution_count": 16,
   "metadata": {},
   "outputs": [
    {
     "data": {
      "text/plain": [
       "Region  Model   \n",
       "IPL     Ctrl_Kxa    1000\n",
       "OPL     Ctrl_Kxa    1000\n",
       "dtype: int64"
      ]
     },
     "execution_count": 16,
     "metadata": {},
     "output_type": "execute_result"
    }
   ],
   "source": [
    "_morphOMICs.morphoframe[\"bootstrap_frame\"].pivot_table(\n",
    "    index=[\"Region\", \"Model\"], aggfunc=\"size\"\n",
    ")"
   ]
  },
  {
   "attachments": {},
   "cell_type": "markdown",
   "metadata": {},
   "source": [
    "#### <code>Bootstrap</code> also returns a metadata (<code><span style=\"color:#ff8a80\">_morphOMICs.metadata[_morphOMICs.parameters[\"*Bootstrap*\"][\"*morphoinfo_name*\"]]</span></code>) which contains the conditions with which you performed <code>Bootstrap</code>."
   ]
  },
  {
   "cell_type": "code",
   "execution_count": 17,
   "metadata": {},
   "outputs": [
    {
     "data": {
      "text/html": [
       "<div>\n",
       "<style scoped>\n",
       "    .dataframe tbody tr th:only-of-type {\n",
       "        vertical-align: middle;\n",
       "    }\n",
       "\n",
       "    .dataframe tbody tr th {\n",
       "        vertical-align: top;\n",
       "    }\n",
       "\n",
       "    .dataframe thead th {\n",
       "        text-align: right;\n",
       "    }\n",
       "</style>\n",
       "<table border=\"1\" class=\"dataframe\">\n",
       "  <thead>\n",
       "    <tr style=\"text-align: right;\">\n",
       "      <th></th>\n",
       "      <th>Region</th>\n",
       "      <th>Model</th>\n",
       "    </tr>\n",
       "  </thead>\n",
       "  <tbody>\n",
       "    <tr>\n",
       "      <th>0</th>\n",
       "      <td>IPL</td>\n",
       "      <td>Ctrl_Kxa</td>\n",
       "    </tr>\n",
       "    <tr>\n",
       "      <th>1</th>\n",
       "      <td>IPL</td>\n",
       "      <td>Ctrl_Kxa</td>\n",
       "    </tr>\n",
       "    <tr>\n",
       "      <th>2</th>\n",
       "      <td>IPL</td>\n",
       "      <td>Ctrl_Kxa</td>\n",
       "    </tr>\n",
       "    <tr>\n",
       "      <th>3</th>\n",
       "      <td>IPL</td>\n",
       "      <td>Ctrl_Kxa</td>\n",
       "    </tr>\n",
       "    <tr>\n",
       "      <th>4</th>\n",
       "      <td>IPL</td>\n",
       "      <td>Ctrl_Kxa</td>\n",
       "    </tr>\n",
       "    <tr>\n",
       "      <th>...</th>\n",
       "      <td>...</td>\n",
       "      <td>...</td>\n",
       "    </tr>\n",
       "    <tr>\n",
       "      <th>1995</th>\n",
       "      <td>OPL</td>\n",
       "      <td>Ctrl_Kxa</td>\n",
       "    </tr>\n",
       "    <tr>\n",
       "      <th>1996</th>\n",
       "      <td>OPL</td>\n",
       "      <td>Ctrl_Kxa</td>\n",
       "    </tr>\n",
       "    <tr>\n",
       "      <th>1997</th>\n",
       "      <td>OPL</td>\n",
       "      <td>Ctrl_Kxa</td>\n",
       "    </tr>\n",
       "    <tr>\n",
       "      <th>1998</th>\n",
       "      <td>OPL</td>\n",
       "      <td>Ctrl_Kxa</td>\n",
       "    </tr>\n",
       "    <tr>\n",
       "      <th>1999</th>\n",
       "      <td>OPL</td>\n",
       "      <td>Ctrl_Kxa</td>\n",
       "    </tr>\n",
       "  </tbody>\n",
       "</table>\n",
       "<p>2000 rows × 2 columns</p>\n",
       "</div>"
      ],
      "text/plain": [
       "     Region     Model\n",
       "0       IPL  Ctrl_Kxa\n",
       "1       IPL  Ctrl_Kxa\n",
       "2       IPL  Ctrl_Kxa\n",
       "3       IPL  Ctrl_Kxa\n",
       "4       IPL  Ctrl_Kxa\n",
       "...     ...       ...\n",
       "1995    OPL  Ctrl_Kxa\n",
       "1996    OPL  Ctrl_Kxa\n",
       "1997    OPL  Ctrl_Kxa\n",
       "1998    OPL  Ctrl_Kxa\n",
       "1999    OPL  Ctrl_Kxa\n",
       "\n",
       "[2000 rows x 2 columns]"
      ]
     },
     "execution_count": 17,
     "metadata": {},
     "output_type": "execute_result"
    }
   ],
   "source": [
    "_morphOMICs.metadata[\"bootstrap_info\"]"
   ]
  },
  {
   "attachments": {},
   "cell_type": "markdown",
   "metadata": {},
   "source": [
    "<br></br>\n",
    "#### Then, we calculate the <code>Persistence_Images</code> from the bootstrapped barcodes in <code><span style=\"color:#ff8a80\">_morphOMICs.morphoframe[_morphOMICs.parameters[\"*Bootstrap*\"][\"*bootstrapframe_name*\"]]</span></code>."
   ]
  },
  {
   "cell_type": "code",
   "execution_count": 18,
   "metadata": {},
   "outputs": [],
   "source": [
    "# parameters for calculating persistence images\n",
    "_morphOMICs.parameters[\"Persistence_Images\"] = tomli.loads(\n",
    "    \"\"\"\n",
    "# if not 0, must contain the filepath to the bootstrapframe\n",
    "\"morphoframe_filepath\" = 0\n",
    "\"morphoframe_name\" = \"bootstrap_frame\"\n",
    "\n",
    "\n",
    "# paramteres for calculating persistence images\n",
    "# spread of the Gaussian\n",
    "\"bw_method\" = 0.5\n",
    "# how to normalize the persistence image, can be \"sum\" or \"max\"\n",
    "\"norm_method\" = \"sum\"\n",
    "# constraints to the axes limits\n",
    "\"xlims\" = [0, 200]\n",
    "\"ylims\" = [0, 200]\n",
    "# if not 0, must point to the location containing the weights to each bar\n",
    "\"barcode_weight\" = 0\n",
    "\n",
    "\n",
    "# I would advise saving the data; value is either `true` or `false` (warning: take note that all the letters are in lower case)\n",
    "\"save_data\" = true\n",
    "# path to folder where to store bootstrapped conditions\n",
    "\"save_folder\" = \"/media/drive_siegert/RyCu/Projects/TMD/_Results/Retina_Morphomics/Retina_sample/\"\n",
    "# if 0, morphOMICs will automatically create a file prefix, i.e., Morphomics.PID[xxx].[barcode_filter].Bootstrap.\n",
    "# Otherwise, this will be used as the file prefix\n",
    "\"file_prefix\" = 0\n",
    "\"\"\"\n",
    ")"
   ]
  },
  {
   "cell_type": "code",
   "execution_count": 19,
   "metadata": {},
   "outputs": [
    {
     "name": "stdout",
     "output_type": "stream",
     "text": [
      "Calculating persistence images with the following parameters:\n",
      "Gaussian kernel size: 0.500\n",
      "image normalization method: sum\n",
      "Calculating persistence images...\n",
      "...done! \n",
      "\n",
      "Done!\n"
     ]
    }
   ],
   "source": [
    "_morphOMICs.Persistence_Images()"
   ]
  },
  {
   "attachments": {},
   "cell_type": "markdown",
   "metadata": {},
   "source": [
    "#### Note that <code>Persistence_Images</code> creates a NumPy array containing the flattened persistence images (a persistence image is 100x100 pixels) and stores it in <code><span style=\"color:#ff8a80\">_morphOMICs.metadata[\"PI_matrix\"]</span></code>."
   ]
  },
  {
   "cell_type": "code",
   "execution_count": 20,
   "metadata": {},
   "outputs": [
    {
     "data": {
      "text/plain": [
       "(2000, 10000)"
      ]
     },
     "execution_count": 20,
     "metadata": {},
     "output_type": "execute_result"
    }
   ],
   "source": [
    "_morphOMICs.metadata[\"PI_matrix\"].shape"
   ]
  },
  {
   "attachments": {},
   "cell_type": "markdown",
   "metadata": {},
   "source": [
    "<br></br>\n",
    "#### Now that we have calculated the persistence images, we can map the images into the pre-calculated UMAP manifold using <code>Mapping</code>."
   ]
  },
  {
   "cell_type": "code",
   "execution_count": 21,
   "metadata": {},
   "outputs": [],
   "source": [
    "# parameters for calculating persistence images\n",
    "_morphOMICs.parameters[\"Mapping\"] = tomli.loads(\n",
    "    \"\"\"\n",
    "# !!! IMPORTANT !!!\n",
    "\"F_umap_filepath\" = \"/media/drive_siegert/RyCu/Projects/TMD/_Results/Retina_Morphomics/Retina_sample/Morphomics.PID1.Cleaned.UMAP-UMAPfunction3D.pkl\"\n",
    "\n",
    "# if not 0, you MUST specify the location to the persistence images\n",
    "\"PersistenceImages_filepath\" = 0\n",
    "\n",
    "# if 1, you MUST specify the location of the filtered pixel indices before doing the UMAP of the generated phenotypic spectrum\n",
    "\"filter_pixels\" = 1\n",
    "\"FilteredPixelIndex_filepath\" = \"/media/drive_siegert/RyCu/Projects/TMD/_Results/Retina_Morphomics/Retina_sample/Morphomics.PID1.Cleaned.UMAP-FilteredIndex.pkl\"\n",
    "\n",
    "# if 1, you MUST specify the location of the PCA function used before doing the UMAP of the generated phenotypic spectrum\n",
    "\"run_PCA\" = 0\n",
    "\"F_PCA_filepath\" = 0\n",
    "\n",
    "# I would advise saving the data; value is either `true` or `false` (warning: take note that all the letters are in lower case)\n",
    "\"save_data\" = true\n",
    "# path to folder where to store UMAP function and reduced manifold coordinates\n",
    "\"save_folder\" = \"/media/drive_siegert/RyCu/Projects/TMD/_Results/Retina_Morphomics/Retina_barcodes\"\n",
    "# if 0, morphOMICs will automatically create a file prefix\n",
    "# Otherwise, this will be used as the file prefix\n",
    "\"file_prefix\" = 0\n",
    "\"\"\"\n",
    ")"
   ]
  },
  {
   "cell_type": "code",
   "execution_count": 22,
   "metadata": {},
   "outputs": [
    {
     "name": "stdout",
     "output_type": "stream",
     "text": [
      "Loading UMAP function...\n",
      "Loading indices used for filtering persistence images...\n",
      "Filtering persistence images...\n",
      "Mapping persistence images into the UMAP space...\n",
      "Done!\n"
     ]
    }
   ],
   "source": [
    "_morphOMICs.Mapping()"
   ]
  },
  {
   "attachments": {},
   "cell_type": "markdown",
   "metadata": {},
   "source": [
    "#### Running <code>Mapping</code> also creates a NumPy array containing the coordinates of the inferred low-dimensional manifold and stores it in <code><span style=\"color:#ff8a80\">_morphOMICs.metadata[\"X_umap\"]</span></code>."
   ]
  },
  {
   "cell_type": "code",
   "execution_count": 23,
   "metadata": {},
   "outputs": [
    {
     "data": {
      "text/plain": [
       "(2000, 3)"
      ]
     },
     "execution_count": 23,
     "metadata": {},
     "output_type": "execute_result"
    }
   ],
   "source": [
    "_morphOMICs.metadata[\"X_umap\"].shape"
   ]
  },
  {
   "attachments": {},
   "cell_type": "markdown",
   "metadata": {},
   "source": [
    "<br></br>\n",
    "#### Then, we prepare a _.csv file_ which summarizes the conditions and its coordinate in the UMAP space. You can upload this file in the <code>_morphOMICs dashboard_</code>."
   ]
  },
  {
   "cell_type": "code",
   "execution_count": 24,
   "metadata": {},
   "outputs": [],
   "source": [
    "# parameters for calculating persistence images\n",
    "_morphOMICs.parameters[\"Prepare_ReductionInfo\"] = tomli.loads(\n",
    "    \"\"\"\n",
    "\"declare_filepaths\" = false\n",
    "\"UMAP_filepath\" = 0\n",
    "\"BootstrapInfo_filepath\" = 0\n",
    "\n",
    "# dictionary keys to the metadata\n",
    "\"coordinate_key\" = \"X_umap\"\n",
    "\"morphoinfo_key\" = \"bootstrap_info\"\n",
    "\"coordinate_axisnames\" = \"UMAP\"\n",
    "\n",
    "# path to folder where to store UMAP function and reduced manifold coordinates\n",
    "\"save_folder\" = \"/media/drive_siegert/RyCu/Projects/TMD/_Results/Retina_Morphomics/Retina_sample/\"\n",
    "# if 0, morphOMICs will automatically create a file prefix\n",
    "# Otherwise, this will be used as the file prefix\n",
    "\"file_prefix\" = 0\n",
    "\"\"\"\n",
    ")"
   ]
  },
  {
   "cell_type": "code",
   "execution_count": 25,
   "metadata": {},
   "outputs": [
    {
     "name": "stdout",
     "output_type": "stream",
     "text": [
      "Preparing .csv file that can be loaded into the morphOMICs dashboard...\n",
      "Done!\n"
     ]
    }
   ],
   "source": [
    "_morphOMICs.Prepare_ReductionInfo()"
   ]
  },
  {
   "attachments": {},
   "cell_type": "markdown",
   "metadata": {},
   "source": [
    "<br></br>\n",
    "#### Finally, we can visualize the mapped persistence images as a UMAP manifold through an interactive 3D plot using <code>Plotting</code>, which takes advantage of the <code>ipyvolume</code> library. Note that you first need to fill out a **<span style=\"color:#607d8b\">_colormap.csv_</span>** file in **<span style=\"color:#424242\">morphOMICs_v2/Parameter_files</span>**"
   ]
  },
  {
   "cell_type": "code",
   "execution_count": 26,
   "metadata": {},
   "outputs": [],
   "source": [
    "# parameters for calculating persistence images\n",
    "_morphOMICs.parameters[\"Plotting\"] = tomli.loads(\n",
    "    \"\"\"\n",
    "# if 0, you must supply Coordinate_filepath AND MorphoInfo_filepath\n",
    "# else, you can either supply the ReductionInfo_filepath, \n",
    "# or if you want to infer the manifold coordinates and morphoinfo_frame from Protocol instance, supply any character other than '0'\n",
    "\"ReductionInfo_filepath\" = [\n",
    "\"/media/drive_siegert/RyCu/Projects/TMD/_Results/Retina_Morphomics/Retina_sample/Morphomics.PID1.Cleaned.ReductionInfo.csv\",\n",
    "\"infer\",\n",
    "]\n",
    "\"coordinate_axisnames\" = \"UMAP\"\n",
    "\n",
    "\n",
    "\"coordinate_key\" = \"X_umap\"\n",
    "\"morphoinfo_key\" = \"bootstrap_info\"\n",
    "\n",
    "\n",
    "# If these are not 0, must point to the location of the manifold coordinates\n",
    "\"Coordinate_filepath\" = [ \n",
    "# coordinate_filepath1,\n",
    "# coordinate_filepath2,\n",
    "]\n",
    "# If these are not 0, must point to the location of the morpho_infoframe that corresponds to each element of `Coordinate_filepath`\n",
    "\"MorphoInfo_filepath\" = [ \n",
    "# morphoinfo_filepath1,\n",
    "# morphoinfo_filepath2,\n",
    "]\n",
    "\n",
    "# Location to the color mapping that will be used\n",
    "# \n",
    "\"colormap_filepath\" = [\n",
    "    \"/media/drive_siegert/RyCu/Projects/TMD/_Tutorials/_morphOMICs_v2_Tutorials/colormap.1.csv\",\n",
    "    \"/media/drive_siegert/RyCu/Projects/TMD/_Tutorials/_morphOMICs_v2_Tutorials/colormap.2.csv\",\n",
    "# colapmap_filepath3,\n",
    "]\n",
    "\n",
    "# Must correspond to each element in `Coordinate_filepath`\n",
    "label_prefixes = [\n",
    "    \"SexSpecific\",\n",
    "    \"NonSexSpecific\",\n",
    "]\n",
    "\n",
    "# If you need to substitute the name of a condition in morpho_infoframe, use this\n",
    "# \n",
    "\"Substitutions\" = [\n",
    "#    [\n",
    "#        [\"Time\", \"Adult\", \"P30\"], # replaces all instances of `Adult` in the `Time` column to `P30`\n",
    "#        # replaces all instances of `Cx3cr1-het` and `Cx3cr1-hom` in `Model` column to `Development`\n",
    "#        [\"Model\", \"Cx3cr1_het\",  \"Development\"], \n",
    "#        [\"Model\", \"Cx3cr1_hom\",  \"Development\"], \n",
    "#    ],\n",
    "#   [ substitutions for morphoinfo_filepath2 ],\n",
    "]\n",
    "\n",
    "# Trigger to show the interactive plot\n",
    "\"show_plot\" = true\n",
    "\n",
    "# I would advise saving the data; value is either `true` or `false` (warning: take note that all the letters are in lower case)\n",
    "\"save_data\" = true\n",
    "\n",
    "# path to folder where to store UMAP function and reduced manifold coordinates\n",
    "\"save_folder\" = \"/media/drive_siegert/RyCu/Projects/TMD/_Results/Retina_Morphomics/Retina_sample/\"\n",
    "\n",
    "# if 0, morphOMICs will automatically create a file prefix\n",
    "# Otherwise, this will be used as the file prefix\n",
    "\"file_prefix\" = \"Retina_3DSpectrum\"\n",
    "\"\"\"\n",
    ")"
   ]
  },
  {
   "cell_type": "code",
   "execution_count": 27,
   "metadata": {},
   "outputs": [
    {
     "name": "stdout",
     "output_type": "stream",
     "text": [
      "Creating the interactive plot...\n",
      "Index(['Unnamed: 0', 'Region', 'Model', 'Sex', 'UMAP_1', 'UMAP_2', 'UMAP_3'], dtype='object')\n",
      "No substitutions for coordinate set 1...\n",
      "The following file was not found: infer\n",
      "Inferring the morpho_infoframe and manifold coordinates from Protocol class.\n",
      "No substitutions for coordinate set 2...\n"
     ]
    },
    {
     "data": {
      "application/vnd.jupyter.widget-view+json": {
       "model_id": "ce1d04fc17a44e2b9b2a5bb70e86cbf4",
       "version_major": 2,
       "version_minor": 0
      },
      "text/plain": [
       "Container(figure=Figure(box_center=[0.5, 0.5, 0.5], box_size=[1.0, 1.0, 1.0], camera=PerspectiveCamera(fov=45.…"
      ]
     },
     "metadata": {},
     "output_type": "display_data"
    }
   ],
   "source": [
    "_morphOMICs.Plotting()"
   ]
  },
  {
   "attachments": {},
   "cell_type": "markdown",
   "metadata": {},
   "source": [
    "<br></br>\n",
    "## Congratulations! You have now completed the mapping morphOMICs pipeline!"
   ]
  },
  {
   "attachments": {},
   "cell_type": "markdown",
   "metadata": {},
   "source": [
    "### A copy of the parameters file is saved in **<span style=\"color:#424242\">morphOMICs_v2/Tutorial/Morpphomics.Parameters.2.toml</span>**"
   ]
  }
 ],
 "metadata": {
  "kernelspec": {
   "display_name": "Python 3 (ipykernel)",
   "language": "python",
   "name": "python3"
  },
  "language_info": {
   "codemirror_mode": {
    "name": "ipython",
    "version": 3
   },
   "file_extension": ".py",
   "mimetype": "text/x-python",
   "name": "python",
   "nbconvert_exporter": "python",
   "pygments_lexer": "ipython3",
   "version": "3.9.13"
  },
  "toc-autonumbering": false,
  "toc-showcode": true,
  "toc-showmarkdowntxt": true
 },
 "nbformat": 4,
 "nbformat_minor": 4
}
