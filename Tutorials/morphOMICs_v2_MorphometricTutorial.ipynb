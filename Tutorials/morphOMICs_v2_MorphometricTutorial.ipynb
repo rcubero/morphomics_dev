{
 "cells": [
  {
   "attachments": {},
   "cell_type": "markdown",
   "metadata": {},
   "source": [
    "# **morphOMICs_v2 Tutorial Notebook:</br>Classical morphometric and Sholl analysis**\n",
    "## Author: **Ryan Cubero**\n",
    "### For questions, please contact <a href=\"mailto:rcubero@ist.ac.at\">Ryan</a> <br/> For bugs and feature request, please go to the <a href=\"https://github.com/siegert-lab/MorphOMICs/issues\">morphOMICs GitHub issues page</a> <br/>\n",
    "#### In this notebook, we will go through the modular implementation of <code>morphOMICs</code> to look into morphologies using either classical morphometric or Sholl analysis. Note that this tutorial assumes that you have run <code>Input</code> on your .swc files as done in  <span style=\"color:#424242\">**morphOMICs_v2_Tutorial.ipynb**</span>."
   ]
  },
  {
   "cell_type": "code",
   "execution_count": 1,
   "metadata": {},
   "outputs": [],
   "source": [
    "%load_ext autoreload\n",
    "%autoreload 2\n",
    "\n",
    "# see if you have nb-black installed\n",
    "# if not: pip install nb-black\n",
    "%load_ext lab_black"
   ]
  },
  {
   "cell_type": "code",
   "execution_count": 2,
   "metadata": {},
   "outputs": [],
   "source": [
    "# change directory to where Morphomics is located\n",
    "# do this only when you have not installed morphOMICs\n",
    "import os\n",
    "\n",
    "os.chdir(\"/media/drive_siegert/RyCu/Projects/Git_codes/morphomics_dev/morphomics_v2.1\")"
   ]
  },
  {
   "attachments": {},
   "cell_type": "markdown",
   "metadata": {},
   "source": [
    "<br> </br>\n",
    "#### First, let's import all the necessary libraries to make the notebook work."
   ]
  },
  {
   "cell_type": "code",
   "execution_count": 3,
   "metadata": {
    "tags": []
   },
   "outputs": [
    {
     "name": "stderr",
     "output_type": "stream",
     "text": [
      "2023-06-06 10:47:28.607762: I tensorflow/core/platform/cpu_feature_guard.cc:193] This TensorFlow binary is optimized with oneAPI Deep Neural Network Library (oneDNN) to use the following CPU instructions in performance-critical operations:  AVX2 FMA\n",
      "To enable them in other operations, rebuild TensorFlow with the appropriate compiler flags.\n",
      "2023-06-06 10:47:28.718872: W tensorflow/compiler/xla/stream_executor/platform/default/dso_loader.cc:64] Could not load dynamic library 'libcudart.so.11.0'; dlerror: libcudart.so.11.0: cannot open shared object file: No such file or directory\n",
      "2023-06-06 10:47:28.718884: I tensorflow/compiler/xla/stream_executor/cuda/cudart_stub.cc:29] Ignore above cudart dlerror if you do not have a GPU set up on your machine.\n",
      "2023-06-06 10:47:29.190594: W tensorflow/compiler/xla/stream_executor/platform/default/dso_loader.cc:64] Could not load dynamic library 'libnvinfer.so.7'; dlerror: libnvinfer.so.7: cannot open shared object file: No such file or directory\n",
      "2023-06-06 10:47:29.190651: W tensorflow/compiler/xla/stream_executor/platform/default/dso_loader.cc:64] Could not load dynamic library 'libnvinfer_plugin.so.7'; dlerror: libnvinfer_plugin.so.7: cannot open shared object file: No such file or directory\n",
      "2023-06-06 10:47:29.190656: W tensorflow/compiler/tf2tensorrt/utils/py_utils.cc:38] TF-TRT Warning: Cannot dlopen some TensorRT libraries. If you would like to use Nvidia GPU with TensorRT, please make sure the missing libraries mentioned above are installed properly.\n"
     ]
    }
   ],
   "source": [
    "from morphomics import protocols\n",
    "import tomli"
   ]
  },
  {
   "attachments": {},
   "cell_type": "markdown",
   "metadata": {},
   "source": [
    "####  The central feature of <code>morphOMICs_v2</code> is the ***parameters file***. You can check out some examples of the parameter file in **<span style=\"color:#424242\">morphOMICs_v2/Parameter_files</span>**. It is  written in <a href=\"https://toml.io/en/\">TOML</a> which is then parsed into Python as a dictionary."
   ]
  },
  {
   "attachments": {},
   "cell_type": "markdown",
   "metadata": {},
   "source": [
    "<br></br>\n",
    "#### First, let's define the <code>parameters</code> dictionary by calling the <code>Protocols</code>.\n",
    "\n",
    "#### <code>Protocols</code> defines the sequence of modules that will be executed and can be used to create workflows. You can choose the following executables: <code>Input</code>, <code>Load_data</code>, <code>Clean_frame</code>, <code>Bootstrap</code>, <code>Persistence_Images</code>, <code>UMAP</code>, <code>Palantir</code>, <code>Plotting</code>, <code>Mapping</code>, <code>Sholl_curves</code>, <code>Morphometrics</code>, <code>Clear_morphframe</code>.\n",
    "\n",
    "#### In the Protocol below, we shall perform the classical morphology analysis. First, we will load the previously-processed data into <code>morphOMICs_v2</code> using <code>Load_data</code>. Then, we will <code>Clean_frame</code> to drop certain conditions that were loaded but are not needed for downstream analysis or rename some conditions. Then, we will calculate <code>Sholl_curves</code> and <code>Morphometrics</code>."
   ]
  },
  {
   "cell_type": "code",
   "execution_count": 4,
   "metadata": {},
   "outputs": [],
   "source": [
    "parameters = tomli.loads(\n",
    "    \"\"\"\n",
    "# sequential list of executables\n",
    "# Choices of executables: Input, Load_data, Clean_frame, Bootstrap, Persistence_Images, UMAP, Palantir, Plotting, Mapping, Clear_morphframe, Sholl_curves, Morphometrics \n",
    "# This is an example of a standard morphOMICs pipeline to obtain the morphological spectrum\n",
    "Protocols = [\n",
    "        \"Load_data\",\n",
    "        \"Clean_frame\",\n",
    "        \"Bootstrap\",\n",
    "        \"Persistence_Images\",\n",
    "        \"UMAP\",\n",
    "        \"Plotting\",\n",
    "    ]\n",
    "\"\"\"\n",
    ")"
   ]
  },
  {
   "attachments": {},
   "cell_type": "markdown",
   "metadata": {},
   "source": [
    "<br> </br>\n",
    "#### Now, we initialize the <code><span style=\"color:#ff8a80\">_morphOMICs</span></code> class using <code>protocols.Protocols()</code>. Here, we set the <code><span style=\"color:#ff8a80\">Parameters_ID</span></code> to any number. In my use-case, <code><span style=\"color:#ff8a80\">Parameters_ID</span></code>  serves as an indicator for the set of parameters that I am using, which I write down on my notes. It helps make my results reproducible."
   ]
  },
  {
   "cell_type": "code",
   "execution_count": 5,
   "metadata": {},
   "outputs": [
    {
     "name": "stdout",
     "output_type": "stream",
     "text": [
      "Unless you have specified the file prefix in the succeeding executables, \n",
      "this will be the file prefix: Morphomics.PID3\n"
     ]
    }
   ],
   "source": [
    "Parameters_ID = 3\n",
    "_morphOMICs = protocols.Protocols(parameters, Parameters_ID)\n",
    "\n",
    "# It will output the filename prefix for the files that will be subsequently saved"
   ]
  },
  {
   "attachments": {},
   "cell_type": "markdown",
   "metadata": {},
   "source": [
    "<br></br>\n",
    "#### Then, we start with loading the data. <code><span style=\"color:#ff8a80\">_morphOMICs.parameters</span></code> contains the parameters that we have initiated before and we should update it with <code>Input</code> parameters. I have placed comments on what information is needed."
   ]
  },
  {
   "cell_type": "code",
   "execution_count": 6,
   "metadata": {},
   "outputs": [],
   "source": [
    "# parameters to load 3D morphological reconstructions\n",
    "_morphOMICs.parameters[\"Load_data\"] = tomli.loads(\n",
    "    \"\"\"\n",
    "# path to where the input files are located\n",
    "\"folderpath_to_data\" = \"/media/drive_siegert/RyCu/Projects/TMD/_Data/_TMD_barcodes/Retina_sample\"\n",
    "\"filename_prefix\" = \"Morphomics.PID1.TMD-radial_distances\"\n",
    "\n",
    "# how the input files are separated\n",
    "\"separated_by\" = \"Model\"\n",
    "\"conditions_to_include\" = [\"Ctrl_Kxa4h\",\"Ctrl_Kxa48h\",]\n",
    "\n",
    "# dictionary key where to store the loaded data\n",
    "\"morphoframe_name\" = \"morphoframe\"\n",
    "\"\"\"\n",
    ")"
   ]
  },
  {
   "attachments": {},
   "cell_type": "markdown",
   "metadata": {},
   "source": [
    "#### Let's run <code>Load_data</code>!"
   ]
  },
  {
   "cell_type": "code",
   "execution_count": 7,
   "metadata": {
    "tags": []
   },
   "outputs": [
    {
     "name": "stdout",
     "output_type": "stream",
     "text": [
      "...loading Ctrl_Kxa4h\n",
      "...loading Ctrl_Kxa48h\n"
     ]
    }
   ],
   "source": [
    "_morphOMICs.Load_data()"
   ]
  },
  {
   "attachments": {},
   "cell_type": "markdown",
   "metadata": {},
   "source": [
    "#### <code>Input</code> returns the instance <code><span style=\"color:#ff8a80\">_morphOMICs.morphoframe</span></code> which is a dictionary of pandas DataFrame with keys indicated by <code><span style=\"color:#ff8a80\">_morphOMICs.morphoframe[_morphOMICs.parameters[\"*Input*\"][\"*morphoframe_name*\"]]</span></code> which contains the *TMD barcodes* (**Barcodes**)."
   ]
  },
  {
   "cell_type": "code",
   "execution_count": 8,
   "metadata": {},
   "outputs": [
    {
     "data": {
      "text/html": [
       "<div>\n",
       "<style scoped>\n",
       "    .dataframe tbody tr th:only-of-type {\n",
       "        vertical-align: middle;\n",
       "    }\n",
       "\n",
       "    .dataframe tbody tr th {\n",
       "        vertical-align: top;\n",
       "    }\n",
       "\n",
       "    .dataframe thead th {\n",
       "        text-align: right;\n",
       "    }\n",
       "</style>\n",
       "<table border=\"1\" class=\"dataframe\">\n",
       "  <thead>\n",
       "    <tr style=\"text-align: right;\">\n",
       "      <th></th>\n",
       "      <th>Region</th>\n",
       "      <th>Condition</th>\n",
       "      <th>Model</th>\n",
       "      <th>Time</th>\n",
       "      <th>Sex</th>\n",
       "      <th>Animal</th>\n",
       "      <th>_files</th>\n",
       "      <th>Filenames</th>\n",
       "      <th>Morphologies</th>\n",
       "      <th>Barcodes</th>\n",
       "    </tr>\n",
       "  </thead>\n",
       "  <tbody>\n",
       "    <tr>\n",
       "      <th>0</th>\n",
       "      <td>IPL</td>\n",
       "      <td>Adulthood</td>\n",
       "      <td>Ctrl_Kxa4h</td>\n",
       "      <td>Adult</td>\n",
       "      <td>F</td>\n",
       "      <td>CRTLSAL4_F_iba488_cd68647_dapi_1_20161005_IPL</td>\n",
       "      <td>Filament_005_IPL_cleared_Trace_0000_nl_correct...</td>\n",
       "      <td>/media/drive_siegert/RyCu/Projects/TMD/_Data/R...</td>\n",
       "      <td>&lt;morphomics.Neuron.Neuron.Neuron object at 0x7...</td>\n",
       "      <td>[[20.75804684935549, 17.748095052710422], [14....</td>\n",
       "    </tr>\n",
       "    <tr>\n",
       "      <th>1</th>\n",
       "      <td>IPL</td>\n",
       "      <td>Adulthood</td>\n",
       "      <td>Ctrl_Kxa4h</td>\n",
       "      <td>Adult</td>\n",
       "      <td>F</td>\n",
       "      <td>CRTLSAL4_F_iba488_cd68647_dapi_1_20161005_IPL</td>\n",
       "      <td>Filament_005_IPL_cleared_Trace_0001_nl_correct...</td>\n",
       "      <td>/media/drive_siegert/RyCu/Projects/TMD/_Data/R...</td>\n",
       "      <td>&lt;morphomics.Neuron.Neuron.Neuron object at 0x7...</td>\n",
       "      <td>[[78.46860149130009, 76.54534465922923], [57.4...</td>\n",
       "    </tr>\n",
       "    <tr>\n",
       "      <th>2</th>\n",
       "      <td>IPL</td>\n",
       "      <td>Adulthood</td>\n",
       "      <td>Ctrl_Kxa4h</td>\n",
       "      <td>Adult</td>\n",
       "      <td>F</td>\n",
       "      <td>CRTLSAL4_F_iba488_cd68647_dapi_1_20161005_IPL</td>\n",
       "      <td>Filament_005_IPL_cleared_Trace_0002_nl_correct...</td>\n",
       "      <td>/media/drive_siegert/RyCu/Projects/TMD/_Data/R...</td>\n",
       "      <td>&lt;morphomics.Neuron.Neuron.Neuron object at 0x7...</td>\n",
       "      <td>[[34.33316491382563, 34.87596242399507], [26.1...</td>\n",
       "    </tr>\n",
       "    <tr>\n",
       "      <th>3</th>\n",
       "      <td>IPL</td>\n",
       "      <td>Adulthood</td>\n",
       "      <td>Ctrl_Kxa4h</td>\n",
       "      <td>Adult</td>\n",
       "      <td>F</td>\n",
       "      <td>CRTLSAL4_F_iba488_cd68647_dapi_1_20161005_IPL</td>\n",
       "      <td>Filament_005_IPL_cleared_Trace_0003_nl_correct...</td>\n",
       "      <td>/media/drive_siegert/RyCu/Projects/TMD/_Data/R...</td>\n",
       "      <td>&lt;morphomics.Neuron.Neuron.Neuron object at 0x7...</td>\n",
       "      <td>[[122.92604691032585, 119.19617370956183], [66...</td>\n",
       "    </tr>\n",
       "    <tr>\n",
       "      <th>4</th>\n",
       "      <td>IPL</td>\n",
       "      <td>Adulthood</td>\n",
       "      <td>Ctrl_Kxa4h</td>\n",
       "      <td>Adult</td>\n",
       "      <td>F</td>\n",
       "      <td>CRTLSAL4_F_iba488_cd68647_dapi_1_20161005_IPL</td>\n",
       "      <td>Filament_005_IPL_cleared_Trace_0004_nl_correct...</td>\n",
       "      <td>/media/drive_siegert/RyCu/Projects/TMD/_Data/R...</td>\n",
       "      <td>&lt;morphomics.Neuron.Neuron.Neuron object at 0x7...</td>\n",
       "      <td>[[66.91833092658726, 68.64142038885886], [64.8...</td>\n",
       "    </tr>\n",
       "  </tbody>\n",
       "</table>\n",
       "</div>"
      ],
      "text/plain": [
       "  Region  Condition       Model   Time Sex  \\\n",
       "0    IPL  Adulthood  Ctrl_Kxa4h  Adult   F   \n",
       "1    IPL  Adulthood  Ctrl_Kxa4h  Adult   F   \n",
       "2    IPL  Adulthood  Ctrl_Kxa4h  Adult   F   \n",
       "3    IPL  Adulthood  Ctrl_Kxa4h  Adult   F   \n",
       "4    IPL  Adulthood  Ctrl_Kxa4h  Adult   F   \n",
       "\n",
       "                                          Animal  \\\n",
       "0  CRTLSAL4_F_iba488_cd68647_dapi_1_20161005_IPL   \n",
       "1  CRTLSAL4_F_iba488_cd68647_dapi_1_20161005_IPL   \n",
       "2  CRTLSAL4_F_iba488_cd68647_dapi_1_20161005_IPL   \n",
       "3  CRTLSAL4_F_iba488_cd68647_dapi_1_20161005_IPL   \n",
       "4  CRTLSAL4_F_iba488_cd68647_dapi_1_20161005_IPL   \n",
       "\n",
       "                                              _files  \\\n",
       "0  Filament_005_IPL_cleared_Trace_0000_nl_correct...   \n",
       "1  Filament_005_IPL_cleared_Trace_0001_nl_correct...   \n",
       "2  Filament_005_IPL_cleared_Trace_0002_nl_correct...   \n",
       "3  Filament_005_IPL_cleared_Trace_0003_nl_correct...   \n",
       "4  Filament_005_IPL_cleared_Trace_0004_nl_correct...   \n",
       "\n",
       "                                           Filenames  \\\n",
       "0  /media/drive_siegert/RyCu/Projects/TMD/_Data/R...   \n",
       "1  /media/drive_siegert/RyCu/Projects/TMD/_Data/R...   \n",
       "2  /media/drive_siegert/RyCu/Projects/TMD/_Data/R...   \n",
       "3  /media/drive_siegert/RyCu/Projects/TMD/_Data/R...   \n",
       "4  /media/drive_siegert/RyCu/Projects/TMD/_Data/R...   \n",
       "\n",
       "                                        Morphologies  \\\n",
       "0  <morphomics.Neuron.Neuron.Neuron object at 0x7...   \n",
       "1  <morphomics.Neuron.Neuron.Neuron object at 0x7...   \n",
       "2  <morphomics.Neuron.Neuron.Neuron object at 0x7...   \n",
       "3  <morphomics.Neuron.Neuron.Neuron object at 0x7...   \n",
       "4  <morphomics.Neuron.Neuron.Neuron object at 0x7...   \n",
       "\n",
       "                                            Barcodes  \n",
       "0  [[20.75804684935549, 17.748095052710422], [14....  \n",
       "1  [[78.46860149130009, 76.54534465922923], [57.4...  \n",
       "2  [[34.33316491382563, 34.87596242399507], [26.1...  \n",
       "3  [[122.92604691032585, 119.19617370956183], [66...  \n",
       "4  [[66.91833092658726, 68.64142038885886], [64.8...  "
      ]
     },
     "execution_count": 8,
     "metadata": {},
     "output_type": "execute_result"
    }
   ],
   "source": [
    "_morphOMICs.morphoframe[\"morphoframe\"].head()"
   ]
  },
  {
   "attachments": {},
   "cell_type": "markdown",
   "metadata": {},
   "source": [
    "#### We can also count the number of morphologies in each condition."
   ]
  },
  {
   "cell_type": "code",
   "execution_count": 9,
   "metadata": {},
   "outputs": [
    {
     "data": {
      "text/plain": [
       "Region  Model        Sex\n",
       "IPL     Ctrl_Kxa48h  F      34\n",
       "                     M      36\n",
       "        Ctrl_Kxa4h   F      23\n",
       "                     M      29\n",
       "OPL     Ctrl_Kxa48h  F      30\n",
       "                     M      27\n",
       "        Ctrl_Kxa4h   F      20\n",
       "                     M      18\n",
       "dtype: int64"
      ]
     },
     "execution_count": 9,
     "metadata": {},
     "output_type": "execute_result"
    }
   ],
   "source": [
    "_morphOMICs.morphoframe[\"morphoframe\"].pivot_table(\n",
    "    index=[\"Region\", \"Model\", \"Sex\"], aggfunc=\"size\"\n",
    ")"
   ]
  },
  {
   "attachments": {},
   "cell_type": "markdown",
   "metadata": {},
   "source": [
    "<br></br>\n",
    "#### Then, we clean out the _morphoframe_ to remove empty morphologies (which corresponds to artifacts during the Imaris semi-automated reconstructions) as well as renaming conditions using <code>Clean_frame</code>."
   ]
  },
  {
   "cell_type": "code",
   "execution_count": 10,
   "metadata": {},
   "outputs": [],
   "source": [
    "# criteria for cleaning the input files\n",
    "_morphOMICs.parameters[\"Clean_frame\"] = tomli.loads(\n",
    "    \"\"\"\n",
    "# if not 0, must contain the filepath to the morphoframe which will then be saved into morphoframe_name\n",
    "# otherwise, `morphoframe_name` is the morphoframe that will be cleaned up\n",
    "\"morphoframe_filepath\" = 0\n",
    "\"morphoframe_name\" = \"morphoframe\"\n",
    "\n",
    "# remove morphologies if the number of bars is less than the cutoff\n",
    "\"barcode_size_cutoff\" = 5\n",
    "\n",
    "# retain bars whose length satisfy a certain cutoff\n",
    "# must be an array with three elements, [\"greater_than\" \"less_than\" or \"within\", bar length condition (must be an array if using \"within\"), \"drop\" or \"keep\"]\n",
    "# the example below keeps bars whose length is greater than 0, and less than 200.\n",
    "# if not used, comment the elements of `barlength_cutoff` out\n",
    "\"barlength_cutoff\" = [ \n",
    "#            [\"less_than\", 0, \"drop\"],\n",
    "#            [\"greater_than\", 200, \"drop\"], \n",
    "#            [\"within\", [0,200], \"keep\"],\n",
    "            ]\n",
    "\n",
    "# enumerate which conditions will be merged\n",
    "# must be an array with three elements [a header of the info_frame (is an element of `Input.conditions`),\n",
    "#                                       a list of conditions that will be merged (must be an array), \n",
    "#                                       the new name of the merged conditions]\n",
    "# if not used, comment the elements of `combine_conditions` out\n",
    "\"combine_conditions\" = [\n",
    "    [\"Model\", [\"Ctrl_Kxa4h\", \"Ctrl_Kxa48h\"], \"Ctrl_Kxa\"]\n",
    "]\n",
    "\n",
    "# enumerate restrictions\n",
    "# must be an array with three elements [a header of the info_frame (is an element of `Input.conditions`),  \n",
    "#                                       list of conditions to either drop or keep (must be an array), \n",
    "#                                       \"drop\" or \"keep\" conditions specified]\n",
    "# if not used, comment the elements of `restrict_conditions` out\n",
    "\"restrict_conditions\" = [\n",
    "#    [\"Region\", [\"GCL\"], \"drop\"],\n",
    "#    [\"Model\", [\"rd1\",\"Cx3cr1_het\",\"Ctrl_Iso\",\"Ctrl_Kxa\",\"rd10\",], \"keep\"],\n",
    "]\n",
    "\n",
    "# I would advise saving the cleaned data; value is either `true` or `false` (warning: take note that all the letters are in lower case)\n",
    "\"save_data\" = true\n",
    "\n",
    "# location where to save the data\n",
    "\"save_folder\" = \"/media/drive_siegert/RyCu/Projects/TMD/_Data/_TMD_barcodes/Retina_sample\"\n",
    "\n",
    "# if 0, morphOMICs will automatically create a file prefix, i.e., Morphomics.PID[xxx].[barcode_filter].Cleaned.\n",
    "# Otherwise, this will be used as the file prefix\n",
    "\"file_prefix\" = 0\n",
    "\"\"\"\n",
    ")"
   ]
  },
  {
   "cell_type": "code",
   "execution_count": 11,
   "metadata": {},
   "outputs": [
    {
     "name": "stdout",
     "output_type": "stream",
     "text": [
      "Removing morphologies with barcode size less than 5.00...\n",
      "Replacing all instances of `['Ctrl_Kxa4h', 'Ctrl_Kxa48h']` in the `Model` morphoframe column with Ctrl_Kxa\n",
      "Done!\n"
     ]
    }
   ],
   "source": [
    "_morphOMICs.Clean_frame()"
   ]
  },
  {
   "cell_type": "code",
   "execution_count": 12,
   "metadata": {},
   "outputs": [
    {
     "data": {
      "text/plain": [
       "Region  Model     Sex\n",
       "IPL     Ctrl_Kxa  F      56\n",
       "                  M      65\n",
       "OPL     Ctrl_Kxa  F      49\n",
       "                  M      45\n",
       "dtype: int64"
      ]
     },
     "execution_count": 12,
     "metadata": {},
     "output_type": "execute_result"
    }
   ],
   "source": [
    "_morphOMICs.morphoframe[\"morphoframe\"].pivot_table(\n",
    "    index=[\"Region\", \"Model\", \"Sex\"], aggfunc=\"size\"\n",
    ")"
   ]
  },
  {
   "attachments": {},
   "cell_type": "markdown",
   "metadata": {},
   "source": [
    "#### Notice that we have combined \"Ctrl_Kxa4h\" and \"Ctrl_Kxa48h\" into one condition."
   ]
  },
  {
   "attachments": {},
   "cell_type": "markdown",
   "metadata": {
    "tags": []
   },
   "source": [
    "<br></br>\n",
    "#### Fist, we calculate Sholl curves."
   ]
  },
  {
   "cell_type": "code",
   "execution_count": 13,
   "metadata": {},
   "outputs": [],
   "source": [
    "# parameters for bootstrapping\n",
    "_morphOMICs.parameters[\"Sholl_curves\"] = tomli.loads(\n",
    "    \"\"\"\n",
    "\"morphoframe_name\" = \"morphoframe\"\n",
    "\"Empty_indicator\" = \"Barcodes\"\n",
    "\n",
    "\"swc_types\" = 0\n",
    "\"Sholl_radius\" = 5\n",
    "\"Sholl_colname\" = \"sholl_curves\"\n",
    "\n",
    "# I would advise saving the data; value is either `true` or `false` (warning: take note that all the letters are in lower case)\n",
    "\"save_data\" = true\n",
    "# path to folder where to store UMAP function and reduced manifold coordinates\n",
    "\"save_folder\" = \"/media/drive_siegert/RyCu/Projects/TMD/_Results/Retina_Morphomics/Retina_barcodes/\"\n",
    "# if 0, morphOMICs will automatically create a file prefix\n",
    "# Otherwise, this will be used as the file prefix\n",
    "\"file_prefix\" = 0\n",
    "\"\"\"\n",
    ")"
   ]
  },
  {
   "cell_type": "code",
   "execution_count": 14,
   "metadata": {},
   "outputs": [
    {
     "name": "stdout",
     "output_type": "stream",
     "text": [
      "Calculating Sholl curves with radius 5.00\n",
      "Sholl curve calculation is now at Filament_005_IPL_cleared_Trace_0000_nl_corrected.swc\n",
      "Sholl curve calculation is now at Filament_002_IPL_cleared_Trace_0000_nl_corrected.swc\n",
      "Sholl curve calculation is now at Filament_002_IPL_cleared_Trace_0006_nl_corrected.swc\n",
      "Sholl curve calculation is now at Filament_003_IPL_cleaned_Trace_0001_nl_corrected.swc\n",
      "Sholl curve calculation is now at Filament_003_IPL_cleaned_Trace_0011_nl_corrected.swc\n",
      "Sholl curve calculation is now at Filament_002_IPL_cleaned_Trace_0006_nl_corrected.swc\n",
      "Sholl curve calculation is now at Filament_003_OPL_cleared_Trace_0000_nl_corrected.swc\n",
      "Sholl curve calculation is now at Filament_003_OPL_cleared_Trace_0005_nl_corrected.swc\n",
      "Sholl curve calculation is now at Filament_004_OPL_cleaned_Trace_0002_nl_corrected.swc\n",
      "Sholl curve calculation is now at Filament_002_IPL_cleared_Trace_0000_nl_corrected.swc\n",
      "Sholl curve calculation is now at Filament_002_IPL_cleared_Trace_0011_nl_corrected.swc\n",
      "Sholl curve calculation is now at Filament_003_IPL_Trace_0006_nl_corrected.swc\n",
      "Sholl curve calculation is now at Filament_003_IPL_cleared_Trace_0009_nl_corrected.swc\n",
      "Sholl curve calculation is now at Filament_002_IPL_cleared_Trace_0007_nl_corrected.swc\n",
      "Sholl curve calculation is now at Filament_002_IPL_cleaned_Trace_0004_nl_corrected.swc\n",
      "Sholl curve calculation is now at Filament_002_IPL_cleaned_Trace_0000_nl_corrected.swc\n",
      "Sholl curve calculation is now at Filament_003_OPL_cleared_Trace_0001_nl_corrected.swc\n",
      "Sholl curve calculation is now at Filament_004_OPL_Trace_0003_nl_corrected.swc\n",
      "Sholl curve calculation is now at Filament_002_OPL_cleared_Trace_0002_nl_corrected.swc\n",
      "Sholl curve calculation is now at Filament_003_OPL_cleared_Trace_0002_nl_corrected.swc\n",
      "Sholl curve calculation is now at Filament_003_OPL_cleaned_Trace_0000_nl_corrected.swc\n",
      "Sholl curve calculation is now at Filament_003_OPL_cleaned_Trace_0002_nl_corrected.swc\n",
      "Done!\n"
     ]
    },
    {
     "name": "stderr",
     "output_type": "stream",
     "text": [
      "/home/rcubero/anaconda3/lib/python3.9/site-packages/pandas/core/internals/construction.py:576: VisibleDeprecationWarning: Creating an ndarray from ragged nested sequences (which is a list-or-tuple of lists-or-tuples-or ndarrays with different lengths or shapes) is deprecated. If you meant to do this, you must specify 'dtype=object' when creating the ndarray.\n",
      "  values = np.array([convert(v) for v in values])\n"
     ]
    }
   ],
   "source": [
    "_morphOMICs.Sholl_curves()"
   ]
  },
  {
   "attachments": {},
   "cell_type": "markdown",
   "metadata": {},
   "source": [
    "#### <code>Sholll_curves</code> returns the instance <code><span style=\"color:#ff8a80\">_morphOMICs.metadata[_morphOMICs.parameters[\"*Sholl_curves*\"][\"*\"Sholl_colname\"*\"]]</span></code>, which is a 2D-array where each element is (_Sholl radius_, _number of microglial process intersection at the Sholl radius_)."
   ]
  },
  {
   "cell_type": "code",
   "execution_count": 15,
   "metadata": {},
   "outputs": [
    {
     "data": {
      "text/html": [
       "<div>\n",
       "<style scoped>\n",
       "    .dataframe tbody tr th:only-of-type {\n",
       "        vertical-align: middle;\n",
       "    }\n",
       "\n",
       "    .dataframe tbody tr th {\n",
       "        vertical-align: top;\n",
       "    }\n",
       "\n",
       "    .dataframe thead th {\n",
       "        text-align: right;\n",
       "    }\n",
       "</style>\n",
       "<table border=\"1\" class=\"dataframe\">\n",
       "  <thead>\n",
       "    <tr style=\"text-align: right;\">\n",
       "      <th></th>\n",
       "      <th>Files</th>\n",
       "      <th>Sholl_curves</th>\n",
       "    </tr>\n",
       "  </thead>\n",
       "  <tbody>\n",
       "    <tr>\n",
       "      <th>0</th>\n",
       "      <td>/media/drive_siegert/RyCu/Projects/TMD/_Data/R...</td>\n",
       "      <td>[[0, 6], [5, 8], [10, 12], [15, 9], [20, 12], ...</td>\n",
       "    </tr>\n",
       "    <tr>\n",
       "      <th>1</th>\n",
       "      <td>/media/drive_siegert/RyCu/Projects/TMD/_Data/R...</td>\n",
       "      <td>[[0, 7], [5, 7], [10, 12], [15, 9], [20, 17], ...</td>\n",
       "    </tr>\n",
       "    <tr>\n",
       "      <th>2</th>\n",
       "      <td>/media/drive_siegert/RyCu/Projects/TMD/_Data/R...</td>\n",
       "      <td>[[0, 6], [5, 10], [10, 13], [15, 13], [20, 14]...</td>\n",
       "    </tr>\n",
       "    <tr>\n",
       "      <th>3</th>\n",
       "      <td>/media/drive_siegert/RyCu/Projects/TMD/_Data/R...</td>\n",
       "      <td>[[0, 6], [5, 8], [10, 9], [15, 7], [20, 7], [2...</td>\n",
       "    </tr>\n",
       "    <tr>\n",
       "      <th>4</th>\n",
       "      <td>/media/drive_siegert/RyCu/Projects/TMD/_Data/R...</td>\n",
       "      <td>[[0, 7], [5, 10], [10, 10], [15, 15], [20, 17]...</td>\n",
       "    </tr>\n",
       "  </tbody>\n",
       "</table>\n",
       "</div>"
      ],
      "text/plain": [
       "                                               Files  \\\n",
       "0  /media/drive_siegert/RyCu/Projects/TMD/_Data/R...   \n",
       "1  /media/drive_siegert/RyCu/Projects/TMD/_Data/R...   \n",
       "2  /media/drive_siegert/RyCu/Projects/TMD/_Data/R...   \n",
       "3  /media/drive_siegert/RyCu/Projects/TMD/_Data/R...   \n",
       "4  /media/drive_siegert/RyCu/Projects/TMD/_Data/R...   \n",
       "\n",
       "                                        Sholl_curves  \n",
       "0  [[0, 6], [5, 8], [10, 12], [15, 9], [20, 12], ...  \n",
       "1  [[0, 7], [5, 7], [10, 12], [15, 9], [20, 17], ...  \n",
       "2  [[0, 6], [5, 10], [10, 13], [15, 13], [20, 14]...  \n",
       "3  [[0, 6], [5, 8], [10, 9], [15, 7], [20, 7], [2...  \n",
       "4  [[0, 7], [5, 10], [10, 10], [15, 15], [20, 17]...  "
      ]
     },
     "execution_count": 15,
     "metadata": {},
     "output_type": "execute_result"
    }
   ],
   "source": [
    "_morphOMICs.metadata[\"sholl_curves\"].head()"
   ]
  },
  {
   "attachments": {},
   "cell_type": "markdown",
   "metadata": {
    "tags": []
   },
   "source": [
    "<br></br>\n",
    "#### Then, we calculate classical morphometric quantities."
   ]
  },
  {
   "cell_type": "code",
   "execution_count": 16,
   "metadata": {},
   "outputs": [],
   "source": [
    "# parameters for bootstrapping\n",
    "_morphOMICs.parameters[\"Morphometrics\"] = tomli.loads(\n",
    "    \"\"\"\n",
    "\"morphoframe_name\" = \"morphoframe\"\n",
    "\"Empty_indicator\" = \"Barcodes\"\n",
    "\"temp_folder\" = \"/media/drive_siegert/RyCu/Projects/TMD/_Tutorials/_morphOMICs_v2_Tutorials/tmp\"\n",
    "\"Morphometric_colname\" = \"morphometrics\"\n",
    "\"Lmeasure_functions\" = [\n",
    "    ['Length', 'TotalSum'],\n",
    "    ['N_tips', 'TotalSum'],\n",
    "    ['Width', 'TotalSum'],\n",
    "    ['Height', 'TotalSum'],\n",
    "    ['Depth', 'TotalSum'],\n",
    "    ['Partition_asymmetry', 'Average'],\n",
    "    ['Bif_ampl_local', 'Average'],\n",
    "    ['Bif_ampl_local', 'Maximum'],\n",
    "    ['Bif_ampl_remote', 'Average'],\n",
    "    ['Bif_ampl_remote', 'Maximum'],\n",
    "    ['Bif_tilt_local', 'Average'],\n",
    "    ['Bif_tilt_local', 'Maximum'],\n",
    "    ['Bif_tilt_remote', 'Average'],\n",
    "    ['Bif_tilt_remote', 'Maximum'],\n",
    "    ['Bif_torque_local', 'Average'],\n",
    "    ['Bif_torque_local', 'Maximum'],\n",
    "    ['Bif_torque_remote', 'Average'],\n",
    "    ['Bif_torque_remote', 'Maximum'],\n",
    "    ['Contraction', 'Average'],\n",
    "    ['Fractal_Dim', 'Average'],\n",
    "    ['Fractal_Dim', 'Maximum'],\n",
    "    ['Branch_pathlength', 'Average'],\n",
    "    ['Branch_Order', 'Maximum'],\n",
    "    ['Terminal_degree', 'Average'],\n",
    "    ['PathDistance', 'Maximum'],\n",
    "    ['Helix', 'Maximum'],\n",
    "]\n",
    "\n",
    "# I would advise saving the data; value is either `true` or `false` (warning: take note that all the letters are in lower case)\n",
    "\"save_data\" = true\n",
    "# path to folder where to store UMAP function and reduced manifold coordinates\n",
    "\"save_folder\" = \"/media/drive_siegert/RyCu/Projects/TMD/_Results/Retina_Morphomics/Retina_barcodes/\"\n",
    "# if 0, morphOMICs will automatically create a file prefix\n",
    "# Otherwise, this will be used as the file prefix\n",
    "\"file_prefix\" = 0\n",
    "\"\"\"\n",
    ")"
   ]
  },
  {
   "cell_type": "code",
   "execution_count": 19,
   "metadata": {},
   "outputs": [
    {
     "name": "stdout",
     "output_type": "stream",
     "text": [
      "Calculating classical morphometric quantities...\n",
      "All of the functions in Morphometrics.Lmeasure_functions are available in Lmeasure!\n",
      "Running pyLmeasure with 215 files...\n",
      "Summarizing morphometric quantities into an array...\n",
      "Done!\n"
     ]
    }
   ],
   "source": [
    "_morphOMICs.Morphometrics()"
   ]
  },
  {
   "cell_type": "code",
   "execution_count": 20,
   "metadata": {},
   "outputs": [
    {
     "data": {
      "text/html": [
       "<div>\n",
       "<style scoped>\n",
       "    .dataframe tbody tr th:only-of-type {\n",
       "        vertical-align: middle;\n",
       "    }\n",
       "\n",
       "    .dataframe tbody tr th {\n",
       "        vertical-align: top;\n",
       "    }\n",
       "\n",
       "    .dataframe thead th {\n",
       "        text-align: right;\n",
       "    }\n",
       "</style>\n",
       "<table border=\"1\" class=\"dataframe\">\n",
       "  <thead>\n",
       "    <tr style=\"text-align: right;\">\n",
       "      <th></th>\n",
       "      <th>Files</th>\n",
       "      <th>Length_TotalSum</th>\n",
       "      <th>N_tips_TotalSum</th>\n",
       "      <th>Width_TotalSum</th>\n",
       "      <th>Height_TotalSum</th>\n",
       "      <th>Depth_TotalSum</th>\n",
       "      <th>Partition_asymmetry_Average</th>\n",
       "      <th>Bif_ampl_local_Average</th>\n",
       "      <th>Bif_ampl_local_Maximum</th>\n",
       "      <th>Bif_ampl_remote_Average</th>\n",
       "      <th>...</th>\n",
       "      <th>Bif_torque_remote_Average</th>\n",
       "      <th>Bif_torque_remote_Maximum</th>\n",
       "      <th>Contraction_Average</th>\n",
       "      <th>Fractal_Dim_Average</th>\n",
       "      <th>Fractal_Dim_Maximum</th>\n",
       "      <th>Branch_pathlength_Average</th>\n",
       "      <th>Branch_Order_Maximum</th>\n",
       "      <th>Terminal_degree_Average</th>\n",
       "      <th>PathDistance_Maximum</th>\n",
       "      <th>Helix_Maximum</th>\n",
       "    </tr>\n",
       "  </thead>\n",
       "  <tbody>\n",
       "    <tr>\n",
       "      <th>0</th>\n",
       "      <td>/media/drive_siegert/RyCu/Projects/TMD/_Data/R...</td>\n",
       "      <td>640.221</td>\n",
       "      <td>49.0</td>\n",
       "      <td>73.5449</td>\n",
       "      <td>8441.18</td>\n",
       "      <td>1150.43</td>\n",
       "      <td>0.598745</td>\n",
       "      <td>36.2215</td>\n",
       "      <td>87.2043</td>\n",
       "      <td>78.4169</td>\n",
       "      <td>...</td>\n",
       "      <td>82.7731</td>\n",
       "      <td>175.238</td>\n",
       "      <td>0.907656</td>\n",
       "      <td>1.03953</td>\n",
       "      <td>1.21747</td>\n",
       "      <td>6.87925</td>\n",
       "      <td>10.0</td>\n",
       "      <td>3.20176</td>\n",
       "      <td>87.3818</td>\n",
       "      <td>0.04</td>\n",
       "    </tr>\n",
       "    <tr>\n",
       "      <th>1</th>\n",
       "      <td>/media/drive_siegert/RyCu/Projects/TMD/_Data/R...</td>\n",
       "      <td>1163.960</td>\n",
       "      <td>80.0</td>\n",
       "      <td>128.7440</td>\n",
       "      <td>8328.97</td>\n",
       "      <td>1150.59</td>\n",
       "      <td>0.662783</td>\n",
       "      <td>43.2234</td>\n",
       "      <td>106.4230</td>\n",
       "      <td>78.9577</td>\n",
       "      <td>...</td>\n",
       "      <td>92.3766</td>\n",
       "      <td>176.665</td>\n",
       "      <td>0.897946</td>\n",
       "      <td>1.04651</td>\n",
       "      <td>1.31518</td>\n",
       "      <td>7.50394</td>\n",
       "      <td>18.0</td>\n",
       "      <td>4.44723</td>\n",
       "      <td>143.1330</td>\n",
       "      <td>0.16</td>\n",
       "    </tr>\n",
       "    <tr>\n",
       "      <th>2</th>\n",
       "      <td>/media/drive_siegert/RyCu/Projects/TMD/_Data/R...</td>\n",
       "      <td>1096.270</td>\n",
       "      <td>82.0</td>\n",
       "      <td>117.5080</td>\n",
       "      <td>8623.44</td>\n",
       "      <td>1152.81</td>\n",
       "      <td>0.575653</td>\n",
       "      <td>47.4665</td>\n",
       "      <td>107.3540</td>\n",
       "      <td>83.5712</td>\n",
       "      <td>...</td>\n",
       "      <td>85.7508</td>\n",
       "      <td>173.457</td>\n",
       "      <td>0.915404</td>\n",
       "      <td>1.02977</td>\n",
       "      <td>1.18188</td>\n",
       "      <td>6.88975</td>\n",
       "      <td>18.0</td>\n",
       "      <td>3.80698</td>\n",
       "      <td>118.5910</td>\n",
       "      <td>0.04</td>\n",
       "    </tr>\n",
       "    <tr>\n",
       "      <th>3</th>\n",
       "      <td>/media/drive_siegert/RyCu/Projects/TMD/_Data/R...</td>\n",
       "      <td>1194.780</td>\n",
       "      <td>78.0</td>\n",
       "      <td>161.1620</td>\n",
       "      <td>8618.58</td>\n",
       "      <td>1152.59</td>\n",
       "      <td>0.733360</td>\n",
       "      <td>45.2412</td>\n",
       "      <td>99.7939</td>\n",
       "      <td>83.4126</td>\n",
       "      <td>...</td>\n",
       "      <td>93.0362</td>\n",
       "      <td>177.623</td>\n",
       "      <td>0.909113</td>\n",
       "      <td>1.03810</td>\n",
       "      <td>1.21256</td>\n",
       "      <td>7.90715</td>\n",
       "      <td>19.0</td>\n",
       "      <td>4.65239</td>\n",
       "      <td>161.5320</td>\n",
       "      <td>0.05</td>\n",
       "    </tr>\n",
       "    <tr>\n",
       "      <th>4</th>\n",
       "      <td>/media/drive_siegert/RyCu/Projects/TMD/_Data/R...</td>\n",
       "      <td>1347.880</td>\n",
       "      <td>91.0</td>\n",
       "      <td>114.5390</td>\n",
       "      <td>8443.70</td>\n",
       "      <td>1153.18</td>\n",
       "      <td>0.699855</td>\n",
       "      <td>43.6058</td>\n",
       "      <td>107.2240</td>\n",
       "      <td>81.7722</td>\n",
       "      <td>...</td>\n",
       "      <td>94.6484</td>\n",
       "      <td>178.487</td>\n",
       "      <td>0.904708</td>\n",
       "      <td>1.04031</td>\n",
       "      <td>1.36694</td>\n",
       "      <td>7.65347</td>\n",
       "      <td>22.0</td>\n",
       "      <td>4.01184</td>\n",
       "      <td>133.2900</td>\n",
       "      <td>0.11</td>\n",
       "    </tr>\n",
       "  </tbody>\n",
       "</table>\n",
       "<p>5 rows × 27 columns</p>\n",
       "</div>"
      ],
      "text/plain": [
       "                                               Files  Length_TotalSum  \\\n",
       "0  /media/drive_siegert/RyCu/Projects/TMD/_Data/R...          640.221   \n",
       "1  /media/drive_siegert/RyCu/Projects/TMD/_Data/R...         1163.960   \n",
       "2  /media/drive_siegert/RyCu/Projects/TMD/_Data/R...         1096.270   \n",
       "3  /media/drive_siegert/RyCu/Projects/TMD/_Data/R...         1194.780   \n",
       "4  /media/drive_siegert/RyCu/Projects/TMD/_Data/R...         1347.880   \n",
       "\n",
       "   N_tips_TotalSum  Width_TotalSum  Height_TotalSum  Depth_TotalSum  \\\n",
       "0             49.0         73.5449          8441.18         1150.43   \n",
       "1             80.0        128.7440          8328.97         1150.59   \n",
       "2             82.0        117.5080          8623.44         1152.81   \n",
       "3             78.0        161.1620          8618.58         1152.59   \n",
       "4             91.0        114.5390          8443.70         1153.18   \n",
       "\n",
       "   Partition_asymmetry_Average  Bif_ampl_local_Average  \\\n",
       "0                     0.598745                 36.2215   \n",
       "1                     0.662783                 43.2234   \n",
       "2                     0.575653                 47.4665   \n",
       "3                     0.733360                 45.2412   \n",
       "4                     0.699855                 43.6058   \n",
       "\n",
       "   Bif_ampl_local_Maximum  Bif_ampl_remote_Average  ...  \\\n",
       "0                 87.2043                  78.4169  ...   \n",
       "1                106.4230                  78.9577  ...   \n",
       "2                107.3540                  83.5712  ...   \n",
       "3                 99.7939                  83.4126  ...   \n",
       "4                107.2240                  81.7722  ...   \n",
       "\n",
       "   Bif_torque_remote_Average  Bif_torque_remote_Maximum  Contraction_Average  \\\n",
       "0                    82.7731                    175.238             0.907656   \n",
       "1                    92.3766                    176.665             0.897946   \n",
       "2                    85.7508                    173.457             0.915404   \n",
       "3                    93.0362                    177.623             0.909113   \n",
       "4                    94.6484                    178.487             0.904708   \n",
       "\n",
       "   Fractal_Dim_Average  Fractal_Dim_Maximum  Branch_pathlength_Average  \\\n",
       "0              1.03953              1.21747                    6.87925   \n",
       "1              1.04651              1.31518                    7.50394   \n",
       "2              1.02977              1.18188                    6.88975   \n",
       "3              1.03810              1.21256                    7.90715   \n",
       "4              1.04031              1.36694                    7.65347   \n",
       "\n",
       "   Branch_Order_Maximum  Terminal_degree_Average  PathDistance_Maximum  \\\n",
       "0                  10.0                  3.20176               87.3818   \n",
       "1                  18.0                  4.44723              143.1330   \n",
       "2                  18.0                  3.80698              118.5910   \n",
       "3                  19.0                  4.65239              161.5320   \n",
       "4                  22.0                  4.01184              133.2900   \n",
       "\n",
       "   Helix_Maximum  \n",
       "0           0.04  \n",
       "1           0.16  \n",
       "2           0.04  \n",
       "3           0.05  \n",
       "4           0.11  \n",
       "\n",
       "[5 rows x 27 columns]"
      ]
     },
     "execution_count": 20,
     "metadata": {},
     "output_type": "execute_result"
    }
   ],
   "source": [
    "_morphOMICs.metadata[\"morphometrics\"].head()"
   ]
  },
  {
   "attachments": {},
   "cell_type": "markdown",
   "metadata": {},
   "source": [
    "<br></br>\n",
    "## Congratulations! You have now completed the a classical morphometric analysis!"
   ]
  },
  {
   "attachments": {},
   "cell_type": "markdown",
   "metadata": {},
   "source": [
    "### A copy of the parameters file is saved in **<span style=\"color:#424242\">morphOMICs_v2/Tutorial/Morpphomics.Parameters.3.toml</span>**"
   ]
  }
 ],
 "metadata": {
  "kernelspec": {
   "display_name": "Python 3 (ipykernel)",
   "language": "python",
   "name": "python3"
  },
  "language_info": {
   "codemirror_mode": {
    "name": "ipython",
    "version": 3
   },
   "file_extension": ".py",
   "mimetype": "text/x-python",
   "name": "python",
   "nbconvert_exporter": "python",
   "pygments_lexer": "ipython3",
   "version": "3.9.13"
  },
  "toc-autonumbering": false,
  "toc-showcode": true,
  "toc-showmarkdowntxt": true
 },
 "nbformat": 4,
 "nbformat_minor": 4
}
